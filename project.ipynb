{
 "cells": [
  {
   "cell_type": "markdown",
   "metadata": {},
   "source": [
    "# Fundamentals of Data Analysis Project\n",
    "\n",
    "Course: HDip in Computing in Data Analytics  \n",
    "Module: Fundamentals of Data Analysis  \n",
    "Author: Stefania Verduga  \n",
    "\n",
    "***"
   ]
  },
  {
   "cell_type": "markdown",
   "metadata": {},
   "source": [
    "## Table of Contents\n",
    "\n",
    "1. [Description](#Description)  \n",
    "2. [Dataset Information](#Dataset-Information)\n",
    "3. [Dataset Code and Analysis](#Dataset-Code-and-Analysis)\n",
    "- 3.1 [Loading the dataset](#Loading-the-dataset)\n",
    "- 3.2 [Analysis of the Iris Dataset](#Analysis-of-the-Iris-Dataset)\n",
    "4. [Plots](#Plots)\n",
    "5. [Conclusion](#Conclusion)\n",
    "6. [Technology used for this project](#Technology-used-for-this-project)\n",
    "7. [References](#References)\n",
    "\n",
    "## 1. Description\n",
    "\n",
    "The Iris flower data set or Fisher’s Iris data set is one of the most famous multivariate data set used for testing various Machine Learning Algorithms. It was introduced by the British statistician and biologist Ronald Fisher in his 1936 paper \"The Use of Multiple Measurements in Taxonomic Problems\" as an example of linear discriminant analysis.\n",
    "The dataset contains four features (length and width of sepals and petals) of 50 samples of three species of Iris (Iris setosa, Iris virginica and Iris versicolor). These measures were used to create a linear discriminant model to classify the species. [01]\n",
    "\n",
    "Iris Species [02]\n",
    "![Iris Species](https://content.codecademy.com/programs/machine-learning/k-means/iris.svg) \n",
    "\n",
    "## 2. Dataset Information\n",
    "\n",
    "The Iris Dataset consists of 50 samples from each of three species of Iris flowers: Iris setosa, Iris virginica, and Iris versicolor. \n",
    "Attribute information:\n",
    "\n",
    "1. Sepal length in cm\n",
    "2. Sepal width in cm\n",
    "3. Petal length in cm\n",
    "4. Petal width in cm\n",
    "5. Class: Iris Setosa - Iris Versicolor - Iris Virginica\n",
    "\n",
    "These features are used to classify the flowers into their respective species. The dataset is often used for machine learning tasks such as classification and clustering."
   ]
  },
  {
   "cell_type": "markdown",
   "metadata": {},
   "source": [
    "## 7. References\n",
    "\n",
    "[01] [Towards Data Science - The Iris Dataset](https://towardsdatascience.com/the-iris-dataset-a-little-bit-of-history-and-biology-fb4812f5a7b5)\\\n",
    "[02] [Code Academy - Iris Dataset](https://www.codecademy.com/courses/machine-learning/lessons/machine-learning-clustering/exercises/iris-dataset)\\\n"
   ]
  },
  {
   "cell_type": "markdown",
   "metadata": {},
   "source": [
    "***\n",
    "\n",
    "## End"
   ]
  }
 ],
 "metadata": {
  "kernelspec": {
   "display_name": "base",
   "language": "python",
   "name": "python3"
  },
  "language_info": {
   "codemirror_mode": {
    "name": "ipython",
    "version": 3
   },
   "file_extension": ".py",
   "mimetype": "text/x-python",
   "name": "python",
   "nbconvert_exporter": "python",
   "pygments_lexer": "ipython3",
   "version": "3.9.13"
  },
  "orig_nbformat": 4
 },
 "nbformat": 4,
 "nbformat_minor": 2
}
