{
 "cells": [
  {
   "cell_type": "markdown",
   "metadata": {},
   "source": [
    "# Fundamentals of Data Analysis Project\n",
    "\n",
    "Course: HDip in Computing in Data Analytics  \n",
    "Module: Fundamentals of Data Analysis  \n",
    "Author: Stefania Verduga  \n",
    "\n",
    "***"
   ]
  },
  {
   "cell_type": "markdown",
   "metadata": {},
   "source": [
    "## Table of Contents\n",
    "\n",
    "1. [Description](#Description)  \n",
    "2. [Dataset Information](#Dataset-Information)\n",
    "3. [Dataset Code and Analysis](#Dataset-Code-and-Analysis)\n",
    "- 3.1 [Loading the dataset](#Loading-the-dataset)\n",
    "- 3.2 [Analysis of the Iris Dataset](#Analysis-of-the-Iris-Dataset)\n",
    "4. [Plots](#Plots)\n",
    "5. [Conclusion](#Conclusion)\n",
    "6. [Technology used for this project](#Technology-used-for-this-project)\n",
    "7. [References](#References)\n",
    "\n",
    "## 1. Description\n",
    "\n",
    "The Iris flower data set or Fisher’s Iris data set is one of the most famous multivariate data set used for testing various Machine Learning Algorithms. It was introduced by the British statistician and biologist Ronald Fisher in his 1936 paper \"The Use of Multiple Measurements in Taxonomic Problems\" as an example of linear discriminant analysis.\n",
    "The dataset contains four features (length and width of sepals and petals) of 50 samples of three species of Iris (Iris setosa, Iris virginica and Iris versicolor). These measures were used to create a linear discriminant model to classify the species. [01]\n",
    "\n",
    "Iris Species [02]\n",
    "![Iris Species](https://content.codecademy.com/programs/machine-learning/k-means/iris.svg) \n",
    "\n",
    "## 2. Dataset Information\n",
    "\n",
    "The Iris Dataset consists of 50 samples from each of three species of Iris flowers: Iris setosa, Iris virginica, and Iris versicolor. \n",
    "Attribute information:\n",
    "\n",
    "1. Sepal length in cm: This variable provides information on the attributes of the Iris sepal lenght measured in cm, which is a numerical variable.\n",
    "2. Sepal width in cm: In this case, this variable provides us with information on the measurements of the Iris sepal width, so we are dealing with a numerical variable.\n",
    "3. Petal length in cm: Like in the previous cases, this variable measures the Iris petal length in cm, so we can consider it a numerical variable.\n",
    "4. Petal width in cm: This variable is another numerical one, similar to the previous ones, which refers to the Iris petal width measured in cm.\n",
    "5. Class: This is a categorical/nominal variable which refers to the specie of each Iris flower. The dataset gather information about three different species, Iris Setosa, Iris Versicolor and Iris Virginica.\n",
    "\n",
    "These features are used to classify the flowers into their respective species. The dataset is often used for machine learning tasks such as classification and clustering.\n",
    "\n",
    "## 3. Dataset Code and Analysis\n",
    "\n",
    "### 3.1 Loading the dataset\n",
    "The first step for the analysis is to obtain the data set information. This can be found it in the official site: [UCI Machine Learning](https://archive.ics.uci.edu/ml/datasets/iris) or in other sites on internet. In my case, I downloaded from [datahub.io](https://datahub.io/machine-learning/iris) as the information was ready to be used and no further changes on the table were needed. This data source can be founded in the repository under the name of [iris_dataset.csv](https://github.com/StefaniaVerduga/fundamentals-of-data-analysis/blob/main/iris_dataset.csv)\n",
    "\n",
    "In order to process all this information we need to import some necessary packages for the project:"
   ]
  },
  {
   "cell_type": "code",
   "execution_count": 1,
   "metadata": {},
   "outputs": [],
   "source": [
    "import numpy as np\n",
    "import pandas as pd\n",
    "import matplotlib.pyplot as plt\n",
    "import seaborn as sns"
   ]
  },
  {
   "cell_type": "markdown",
   "metadata": {},
   "source": [
    "* **Numpy**: used to perform a wide variety of mathematical operations on arrays. NumPy is the fundamental package for scientific computing in Python. It is a Python library that provides a multidimensional array object, various derived objects (such as masked arrays and matrices), and an assortment of routines for fast operations on arrays, including mathematical, logical, shape manipulation. [03]\n",
    "* **Pandas**: used to perform data manipulation and analysis.Pandas is a Python library for data analysis. It is built on top of two core Python libraries—matplotlib for data visualization and NumPy for mathematical operations. Pandas acts as a wrapper over these libraries, allowing you to access many of matplotlib's and NumPy's methods with less code. [04]\n",
    "* **Matplotlib**: used for data visualization and graphical ploting. Matplotlib is a comprehensive library for creating static, animated, and interactive visualizations in Python. [05]\n",
    "* **Seaborn**: built on top of matplotlib with similar functionalities. Seaborn is a Python data visualization library based on matplotlib. It provides a high-level interface for drawing attractive and informative statistical graphics. [06]\n",
    "\n",
    "The CSV file previously downloaded, is read into our repository using the Pandas 'read_csv' method and it is stored in a pandas DataFrame object named 'df'. [07]"
   ]
  },
  {
   "cell_type": "code",
   "execution_count": 2,
   "metadata": {},
   "outputs": [],
   "source": [
    "# Loading the dataset\n",
    "df = pd.read_csv(\"iris_dataset.csv\")"
   ]
  },
  {
   "cell_type": "markdown",
   "metadata": {},
   "source": [
    "## 7. References\n",
    "\n",
    "[01] [Towards Data Science - The Iris Dataset](https://towardsdatascience.com/the-iris-dataset-a-little-bit-of-history-and-biology-fb4812f5a7b5)\\\n",
    "[02] [Code Academy - Iris Dataset](https://www.codecademy.com/courses/machine-learning/lessons/machine-learning-clustering/exercises/iris-dataset)\\\n",
    "[03] [Numpy](https://numpy.org/doc/stable/user/whatisnumpy.html)\\\n",
    "[04] [Python Tutorial](https://mode.com/python-tutorial/libraries/pandas/)\\\n",
    "[05] [Matplotlib](https://matplotlib.org/)\\\n",
    "[06] [Seaborn](https://seaborn.pydata.org/#:~:text=Seaborn%20is%20a%20Python%20data,attractive%20and%20informative%20statistical%20graphics.)\\\n",
    "[07] [W3School - Python - Pandas CSV](https://www.w3schools.com/python/pandas/pandas_csv.asp)\\"
   ]
  },
  {
   "cell_type": "markdown",
   "metadata": {},
   "source": [
    "***\n",
    "\n",
    "## End"
   ]
  }
 ],
 "metadata": {
  "kernelspec": {
   "display_name": "base",
   "language": "python",
   "name": "python3"
  },
  "language_info": {
   "codemirror_mode": {
    "name": "ipython",
    "version": 3
   },
   "file_extension": ".py",
   "mimetype": "text/x-python",
   "name": "python",
   "nbconvert_exporter": "python",
   "pygments_lexer": "ipython3",
   "version": "3.9.13"
  },
  "orig_nbformat": 4
 },
 "nbformat": 4,
 "nbformat_minor": 2
}
