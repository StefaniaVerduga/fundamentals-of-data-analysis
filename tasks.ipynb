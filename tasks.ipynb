{
 "cells": [
  {
   "cell_type": "markdown",
   "metadata": {},
   "source": [
    "# Fundamentals of Data Analysis Tasks\n",
    "\n",
    "**Stefania Verduga**\n",
    "\n",
    "***"
   ]
  },
  {
   "cell_type": "markdown",
   "metadata": {},
   "source": [
    "## Task 1\n",
    "\n",
    "The Collatz conjecture"
   ]
  },
  {
   "cell_type": "code",
   "execution_count": 1,
   "metadata": {},
   "outputs": [],
   "source": [
    "def f(x):\n",
    "    # If x is even, divide it by two.\n",
    "    if x % 2 == 0:\n",
    "        return x // 2\n",
    "    else:\n",
    "        return (3 * x) + 1"
   ]
  },
  {
   "cell_type": "code",
   "execution_count": 2,
   "metadata": {},
   "outputs": [],
   "source": [
    "def collatz(x):\n",
    "    while x != 1:\n",
    "        print(x, end=', ')\n",
    "        x = f(x)\n",
    "    print(x)\n",
    "       "
   ]
  },
  {
   "cell_type": "code",
   "execution_count": 3,
   "metadata": {},
   "outputs": [
    {
     "name": "stdout",
     "output_type": "stream",
     "text": [
      "1000, 500, 250, 125, 376, 188, 94, 47, 142, 71, 214, 107, 322, 161, 484, 242, 121, 364, 182, 91, 274, 137, 412, 206, 103, 310, 155, 466, 233, 700, 350, 175, 526, 263, 790, 395, 1186, 593, 1780, 890, 445, 1336, 668, 334, 167, 502, 251, 754, 377, 1132, 566, 283, 850, 425, 1276, 638, 319, 958, 479, 1438, 719, 2158, 1079, 3238, 1619, 4858, 2429, 7288, 3644, 1822, 911, 2734, 1367, 4102, 2051, 6154, 3077, 9232, 4616, 2308, 1154, 577, 1732, 866, 433, 1300, 650, 325, 976, 488, 244, 122, 61, 184, 92, 46, 23, 70, 35, 106, 53, 160, 80, 40, 20, 10, 5, 16, 8, 4, 2, 1\n"
     ]
    }
   ],
   "source": [
    "collatz(1000)"
   ]
  },
  {
   "cell_type": "markdown",
   "metadata": {},
   "source": [
    "## Task 2\n",
    "\n",
    "Give an overview of the penguins data set, explaining the types of variables it contains. Suggest the types of variables that should be used to model them in Python, explaining your rationale.\n",
    "\n",
    "The Palmer penguins dataset is a collection of data about penguins in the Palmer Archipelago, Antarctica, composed of 3 islands. Data were collected and made available by Dr. Kristen Gorman and the Palmer Station, Antarctica LTER.\n",
    "\n",
    "The palmer penguin data has lots of information about three penguin species in the Palmer Archipelago, including size measurements, clutch sizes, and blood isotope ratios. There are 344 rows and 8 columns.\n",
    "\n",
    "![Penguin's Species](https://miro.medium.com/v2/resize:fit:1400/1*KU-V8tWWQU3nDtw12-bQ_g.png)\n",
    "\n",
    "Image by Allison Horst (https://allisonhorst.com/)\n",
    "\n",
    "For each of the 344 penguins, numerical values of bill length/depth, flipper length and body mass were measured, and additional categorical characteristics like sex, species and island were recorded.\n",
    "\n",
    "This dataset can be found in the following link: \n",
    "\n",
    "https://github.com/mwaskom/seaborn-data/blob/master/penguins.csv\n",
    "\n",
    "The CSV file previously downloaded, is read into our repository using the Pandas 'read_csv' method and it is stored in a pandas DataFrame object named 'df'. \n",
    "\n",
    "Using the method 'info' we will get all the relevant information about this dataset as the data type and its values."
   ]
  },
  {
   "cell_type": "code",
   "execution_count": 4,
   "metadata": {},
   "outputs": [
    {
     "data": {
      "text/html": [
       "<div>\n",
       "<style scoped>\n",
       "    .dataframe tbody tr th:only-of-type {\n",
       "        vertical-align: middle;\n",
       "    }\n",
       "\n",
       "    .dataframe tbody tr th {\n",
       "        vertical-align: top;\n",
       "    }\n",
       "\n",
       "    .dataframe thead th {\n",
       "        text-align: right;\n",
       "    }\n",
       "</style>\n",
       "<table border=\"1\" class=\"dataframe\">\n",
       "  <thead>\n",
       "    <tr style=\"text-align: right;\">\n",
       "      <th></th>\n",
       "      <th>species</th>\n",
       "      <th>island</th>\n",
       "      <th>bill_length_mm</th>\n",
       "      <th>bill_depth_mm</th>\n",
       "      <th>flipper_length_mm</th>\n",
       "      <th>body_mass_g</th>\n",
       "      <th>sex</th>\n",
       "    </tr>\n",
       "  </thead>\n",
       "  <tbody>\n",
       "    <tr>\n",
       "      <th>0</th>\n",
       "      <td>Adelie</td>\n",
       "      <td>Torgersen</td>\n",
       "      <td>39.1</td>\n",
       "      <td>18.7</td>\n",
       "      <td>181.0</td>\n",
       "      <td>3750.0</td>\n",
       "      <td>MALE</td>\n",
       "    </tr>\n",
       "    <tr>\n",
       "      <th>1</th>\n",
       "      <td>Adelie</td>\n",
       "      <td>Torgersen</td>\n",
       "      <td>39.5</td>\n",
       "      <td>17.4</td>\n",
       "      <td>186.0</td>\n",
       "      <td>3800.0</td>\n",
       "      <td>FEMALE</td>\n",
       "    </tr>\n",
       "    <tr>\n",
       "      <th>2</th>\n",
       "      <td>Adelie</td>\n",
       "      <td>Torgersen</td>\n",
       "      <td>40.3</td>\n",
       "      <td>18.0</td>\n",
       "      <td>195.0</td>\n",
       "      <td>3250.0</td>\n",
       "      <td>FEMALE</td>\n",
       "    </tr>\n",
       "    <tr>\n",
       "      <th>3</th>\n",
       "      <td>Adelie</td>\n",
       "      <td>Torgersen</td>\n",
       "      <td>NaN</td>\n",
       "      <td>NaN</td>\n",
       "      <td>NaN</td>\n",
       "      <td>NaN</td>\n",
       "      <td>NaN</td>\n",
       "    </tr>\n",
       "    <tr>\n",
       "      <th>4</th>\n",
       "      <td>Adelie</td>\n",
       "      <td>Torgersen</td>\n",
       "      <td>36.7</td>\n",
       "      <td>19.3</td>\n",
       "      <td>193.0</td>\n",
       "      <td>3450.0</td>\n",
       "      <td>FEMALE</td>\n",
       "    </tr>\n",
       "  </tbody>\n",
       "</table>\n",
       "</div>"
      ],
      "text/plain": [
       "  species     island  bill_length_mm  bill_depth_mm  flipper_length_mm   \n",
       "0  Adelie  Torgersen            39.1           18.7              181.0  \\\n",
       "1  Adelie  Torgersen            39.5           17.4              186.0   \n",
       "2  Adelie  Torgersen            40.3           18.0              195.0   \n",
       "3  Adelie  Torgersen             NaN            NaN                NaN   \n",
       "4  Adelie  Torgersen            36.7           19.3              193.0   \n",
       "\n",
       "   body_mass_g     sex  \n",
       "0       3750.0    MALE  \n",
       "1       3800.0  FEMALE  \n",
       "2       3250.0  FEMALE  \n",
       "3          NaN     NaN  \n",
       "4       3450.0  FEMALE  "
      ]
     },
     "execution_count": 4,
     "metadata": {},
     "output_type": "execute_result"
    }
   ],
   "source": [
    "import pandas as pd\n",
    "df = pd.read_csv('/Users/stefania/Fundamentals of data analysis/fundamentals-of-data-analysis-project/penguins.csv')\n",
    "df.head()"
   ]
  },
  {
   "cell_type": "code",
   "execution_count": 5,
   "metadata": {},
   "outputs": [
    {
     "name": "stdout",
     "output_type": "stream",
     "text": [
      "<class 'pandas.core.frame.DataFrame'>\n",
      "RangeIndex: 344 entries, 0 to 343\n",
      "Data columns (total 7 columns):\n",
      " #   Column             Non-Null Count  Dtype  \n",
      "---  ------             --------------  -----  \n",
      " 0   species            344 non-null    object \n",
      " 1   island             344 non-null    object \n",
      " 2   bill_length_mm     342 non-null    float64\n",
      " 3   bill_depth_mm      342 non-null    float64\n",
      " 4   flipper_length_mm  342 non-null    float64\n",
      " 5   body_mass_g        342 non-null    float64\n",
      " 6   sex                333 non-null    object \n",
      "dtypes: float64(4), object(3)\n",
      "memory usage: 18.9+ KB\n"
     ]
    }
   ],
   "source": [
    "df.info()"
   ]
  },
  {
   "cell_type": "markdown",
   "metadata": {},
   "source": [
    "The dataset consists of 344 observations with 7 columns referring to the features used to describe these observations. Three of these variables are nominal while the other four are numeric.\n",
    "\n",
    "- species: penguin species (Chinstrap, Adélie, or Gentoo)\n",
    "- island: island name (Dream, Torgersen, or Biscoe) in the Palmer Archipelago (Antarctica)\n",
    "- bill_length_mm: bill length (mm)\n",
    "- bill_depth_mm: bill depth (mm)\n",
    "- flipper_length_mm: flipper length (mm)\n",
    "- body_mass_g: body mass (g)\n",
    "- sex: penguin sex\n",
    "\n",
    "Let's analyze the type of variable for each one:\n",
    "\n",
    "- **Species**: This is a categorical/nominal variable which refers to the specie of each penguin. The dataset gather information about three different species Chinstrap, Adélie and Gentoo.\n",
    "\n",
    "- **Island**: Like the previous variable, this is a categorical/numerical variable which refers to the name of the islands where data were collected for each of the sample values (Tongersen, Dream, Biscoe).\n",
    "\n",
    "- **Bill Length**: The bill is the upper ridge of the penguin's beak, and this variable is a numerical value measured in millimeters.\n",
    "\n",
    "- **Bill Depth**: This variable provides information on the attributes of the penguin beak, in this case its depth size, which is a numerical variable.\n",
    "\n",
    "- **Flipper Length**: In this case, this variable provides us with information on the measurements of the penguin's flippers, so we are dealing with a numerical variable.\n",
    "\n",
    "- **Body Mass**: This variable indicates the weight of the penguins, measured in grams, which is a numerical variable.\n",
    "\n",
    "- **Sex**: The variable sex refers to the gender of the penguins, it is a nominal variable with only two possible values, in this case female or male.\n",
    "\n",
    "For a better understanding of the measurement of the penguin's bill, we can find a picture explanation as follows:\n",
    "\n",
    "![Penguin's Bill Length vs Bill Depth](https://allisonhorst.github.io/palmerpenguins/reference/figures/culmen_depth.png)\n",
    "Image by Allison Horst (https://allisonhorst.com/)"
   ]
  },
  {
   "cell_type": "markdown",
   "metadata": {},
   "source": [
    "## Task 3\n",
    "\n",
    "For each of the variables in the penguins data set, suggest what probability distribution from the numpy random distributions list is the most appropriate to model the variable.\n",
    "\n",
    "According to the penguin dataset, we have the following variables:\n",
    "- species\n",
    "- island \n",
    "- bill_length_mm\n",
    "- bill_depth_mm \n",
    "- flipper_length_mm\n",
    "- body_mass_g\n",
    "-  sex            \n",
    "\n",
    "In order to figure out the distributions of each variable, We need to take into account the number of observations for each one. We need also to import numpy to work with random variables."
   ]
  },
  {
   "cell_type": "code",
   "execution_count": 6,
   "metadata": {},
   "outputs": [],
   "source": [
    "# Import numpy.\n",
    "import numpy as np"
   ]
  },
  {
   "cell_type": "markdown",
   "metadata": {},
   "source": [
    "1. Species\n",
    "\n",
    "The variable \"species\" in the Penguin dataset represents the categorical variable indicating the penguin species. The distribution of this variable will show the frequency or proportion of each species in the dataset. We should need take into account that this variable has three possible outcomes: Chinstrap, Adélie or Gentoo.\n",
    "\n",
    "The Binomial distribution is a statistical distribution that summarizes the probability that a value will take one of two independent values under a given set of parameters or assumptions. According to this definition, we can confirm that this variable cannot follow a binomial distribution, but it can follow a multinomial distribution since the observations can be from 3 different nominal categories."
   ]
  },
  {
   "cell_type": "code",
   "execution_count": 7,
   "metadata": {},
   "outputs": [
    {
     "name": "stdout",
     "output_type": "stream",
     "text": [
      "Simulated Observations: [55 64 31]\n"
     ]
    }
   ],
   "source": [
    "# Generate a random data for the variable Species.\n",
    "species_counts = df[\"species\"].value_counts()\n",
    "\n",
    "# Calculate probabilities.\n",
    "probabilities = species_counts / len(df)\n",
    "\n",
    "number_of_observations = 150 \n",
    "\n",
    "multinomial_variable = np.random.multinomial(n=number_of_observations, pvals=probabilities)\n",
    "print(f\"Simulated Observations: {multinomial_variable}\")"
   ]
  },
  {
   "cell_type": "markdown",
   "metadata": {},
   "source": [
    "The previous output indicates that there are 73 observations for Adélie, 47 observations for Chinstrap and 30 observations for Gentoo.\n",
    "\n",
    "2. Island\n",
    "\n",
    "This variable is similar to the previous one. The three possible outcomes for this variables are: Tongersen, Dream and Biscoe. So as in the previous variable, we can say that this variable follows a multinomial distribution."
   ]
  },
  {
   "cell_type": "code",
   "execution_count": 8,
   "metadata": {},
   "outputs": [
    {
     "name": "stdout",
     "output_type": "stream",
     "text": [
      "Simulated Observations: [77 53 20]\n"
     ]
    }
   ],
   "source": [
    "# Generate a random data for the variable Island.\n",
    "species_counts = df[\"island\"].value_counts()\n",
    "\n",
    "# Calculate probabilities.\n",
    "probabilities = species_counts / len(df)\n",
    "\n",
    "number_of_observations = 150 \n",
    "\n",
    "multinomial_variable = np.random.multinomial(n=number_of_observations, pvals=probabilities)\n",
    "print(f\"Simulated Observations: {multinomial_variable}\")"
   ]
  },
  {
   "cell_type": "markdown",
   "metadata": {},
   "source": [
    "The previous output indicates that there are 71 observations for Tongersen, 55 observations for Biscoep and 24 observations for Dream.\n",
    "\n",
    "3. Bill_length_mm\n",
    "\n",
    "In the case of the Bill lenght variable, we can assume that if follows a Normal / Gaussian bell distribution.\n",
    "A normal distribution represents how the values of a characteristic appear in a population, for example the height of people in any country or in this case, the bill lenght of the penguins. In these characteristics, there will be one value that will be the most frequent and that will also be the value located in the middle of all the observations recorded in that population, even if we calculate that value, which is the arithmetic mean, adding all the heights recorded and dividing that result by the number of registered people, both data will coincide (or will be very similar)."
   ]
  },
  {
   "cell_type": "code",
   "execution_count": 9,
   "metadata": {},
   "outputs": [
    {
     "name": "stdout",
     "output_type": "stream",
     "text": [
      "Simulated Bill Lengths: [47.66765716 36.42775438 40.07405774 38.49705488 44.24976496 32.54915446\n",
      " 42.14988544 35.62696594 41.6657833  40.3303799  44.10635307 40.27921118\n",
      " 39.34158304 49.30489607 43.18868201 28.98552867 32.86707958 53.59075411\n",
      " 44.79422909 34.18892922 35.53325277 47.37456696 47.38743868 46.6219442\n",
      " 43.17013338 39.52036525 38.46215303 45.11577534 47.881817   32.95722051\n",
      " 45.7094079  51.92067209 41.07779556 45.11725326 49.17559793 45.17119662\n",
      " 35.4924268  41.91978104 33.48648186 44.35791759 41.40529027 44.75286552\n",
      " 48.54090263 49.08650843 49.51886456 45.95153329 43.50375949 52.52037708\n",
      " 36.7205917  42.40678686 45.61151987 45.30766987 47.64472005 39.49300772\n",
      " 53.12749546 31.43882449 40.37599163 40.49209993 43.83358244 40.22493164\n",
      " 47.99990257 39.66567403 37.76058727 57.50219759 52.88514941 43.90880575\n",
      " 42.97144078 42.46105293 38.16803752 49.66027633 45.26560201 48.0763331\n",
      " 52.18033657 46.74687602 55.26931366 48.40118966 41.31498319 44.99285759\n",
      " 46.6150979  51.99561943 46.01819535 42.39484702 46.42008984 41.75977707\n",
      " 51.75529207 42.06681793 31.05162952 34.99754115 42.64192412 49.08889538\n",
      " 35.62963294 37.185172   44.89149512 38.4697917  39.75087439 44.80362035\n",
      " 42.97028025 44.11396556 53.73184218 37.23521572 48.49561693 42.39000353\n",
      " 38.46565063 50.89075858 42.5412883  43.44270671 44.7215228  44.07760678\n",
      " 39.66837917 40.74194998 34.8636171  42.43883119 42.19034937 50.74118087\n",
      " 49.42884066 43.83620794 47.39421148 35.65038055 43.40671878 39.47460238\n",
      " 30.54735076 43.34901965 42.15777234 38.53594348 48.24249254 40.36393416\n",
      " 46.12794655 44.23920756 44.6667783  38.0489779  44.05502521 38.82651408\n",
      " 41.24340389 49.72307508 53.37916948 46.12870925 37.53728737 34.25569234\n",
      " 47.96425082 47.33815628 45.45204291 54.57659315 42.46593769 39.50462994\n",
      " 38.0962313  46.56551694 41.28280495 40.17896052 39.96750104 38.95682971]\n"
     ]
    }
   ],
   "source": [
    "# Generate a random sata for the variable bill_lenght_mm following a normal distribution.\n",
    "mean_bill_length = df[\"bill_length_mm\"].mean()\n",
    "std_dev_bill_length = df[\"bill_length_mm\"].std()\n",
    "\n",
    "number_of_observations = 150 \n",
    "\n",
    "# Simulate a normal distribution\n",
    "bill_length_simulated_data = np.random.normal(loc=mean_bill_length, scale=std_dev_bill_length, size=number_of_observations)\n",
    "print(f\"Simulated Bill Lengths: {bill_length_simulated_data}\")"
   ]
  },
  {
   "cell_type": "markdown",
   "metadata": {},
   "source": [
    "4. Bill_depth_mm \n",
    "\n",
    "Just as in the previous variable and since it is a natural phenomenon, we are going to consider that this variable follows a normal distribution or Gaussian Bell."
   ]
  },
  {
   "cell_type": "code",
   "execution_count": 10,
   "metadata": {},
   "outputs": [
    {
     "name": "stdout",
     "output_type": "stream",
     "text": [
      "Simulated Bill Lengths: [19.0321071  14.22920099 15.70172326 18.59129279 17.27548668 17.12678741\n",
      " 18.38747166 19.48526906 14.19971761 18.44819479 17.95122659 21.05388672\n",
      " 17.17710784 14.99177133 17.80943924 16.46590192 17.00788694 16.901444\n",
      " 17.48582803 17.3095427  15.11900309 15.75857167 15.7097517  17.61644221\n",
      " 15.35837721 13.13361357 17.38591985 19.11662875 17.5283298  17.09004376\n",
      " 18.61123824 17.80721658 16.61665079 14.34204744 14.44244739 14.46389071\n",
      " 15.44451009 14.89243091 20.49036258 14.8639892  16.77560354 13.89738318\n",
      " 19.15077571 17.28180662 17.21649155 17.64323018 16.10751952 19.08959957\n",
      " 16.15649621 21.92650637 18.07273221 22.58091377 20.15830665 17.89335937\n",
      " 15.36830966 16.56773871 18.33623142 17.06639814 17.57451466 14.86176329\n",
      " 19.25409572 19.22855068 20.04135926 17.40348887 15.60105971 13.10163535\n",
      " 14.90211706 17.99539051 13.47109125 14.89685703 17.37661282 19.2826428\n",
      " 17.39113245 17.19987254 17.17612573 18.05227063 14.3021079  18.2117373\n",
      " 19.83560168 16.71325466 14.38064012 18.61606427 15.65112184 18.3328754\n",
      " 17.61713405 18.10301084 17.35474888 18.64682235 16.64674712 16.18537911\n",
      " 11.45617408 18.31694433 17.20983361 18.6947329  15.17805136 17.33361422\n",
      " 18.5476567  16.61438921 16.60913387 17.21019968 12.62817276 18.54658222\n",
      " 12.37553919 18.62122041 20.04491101 17.71695078 18.25805815 15.74108844\n",
      " 18.82620419 14.34485543 17.7101466  21.28493959 15.4706624  14.68129997\n",
      " 15.41150492 17.36324954 16.00127834 18.57353526 17.22406543 15.85182481\n",
      " 16.78904018 18.84563658 13.16416975 21.6936602  14.5546827  16.23262818\n",
      " 14.69876512 18.51347974 17.4978499  18.76911753 14.45415342 17.25891916\n",
      " 14.78994193 20.44626451 16.84383065 15.4575219  17.13899302 17.97505744\n",
      " 17.16647116 16.29027996 16.49315652 17.96302951 18.83144429 17.8418941\n",
      " 15.71679403 18.82869494 17.88337063 19.04783877 19.63268445 22.12631687]\n"
     ]
    }
   ],
   "source": [
    "# Generate a random sata for the variable bill_depth_mm following a normal distribution.\n",
    "mean_bill_depth = df[\"bill_depth_mm\"].mean()\n",
    "std_dev_bill_depth = df[\"bill_depth_mm\"].std()\n",
    "\n",
    "number_of_observations = 150 \n",
    "\n",
    "# Simulate a normal distribution\n",
    "bill_depth_simulated_data = np.random.normal(loc=mean_bill_depth, scale=std_dev_bill_depth, size=number_of_observations)\n",
    "print(f\"Simulated Bill Lengths: {bill_depth_simulated_data}\")"
   ]
  },
  {
   "cell_type": "markdown",
   "metadata": {},
   "source": [
    "5. Flipper_length_mm\n",
    "\n",
    "Again here, as this variable explains a phisycal phenomenon of the penguins, this variable can be normally distributed."
   ]
  },
  {
   "cell_type": "code",
   "execution_count": 11,
   "metadata": {},
   "outputs": [
    {
     "name": "stdout",
     "output_type": "stream",
     "text": [
      "Simulated Bill Lengths: [206.92526696 198.31390664 204.39452346 195.78947683 210.02072886\n",
      " 213.73523558 182.90839755 192.20937126 181.01139434 190.13791905\n",
      " 191.03090149 193.64967552 192.66600498 230.89715088 206.03103042\n",
      " 198.00284154 190.04297875 188.04086528 202.09439424 213.86352683\n",
      " 198.65804565 200.69100085 171.44736663 205.16359239 205.1095906\n",
      " 208.00808533 190.17523341 190.95389724 217.78241114 172.98457607\n",
      " 205.83529509 204.97584168 187.3669333  229.37699346 194.64221357\n",
      " 209.75916563 219.61639123 177.48658753 216.96747693 194.62117264\n",
      " 211.68936016 208.90680391 196.64686969 211.21813145 192.54840439\n",
      " 192.55614128 200.26040866 209.94291651 188.25183615 191.10585258\n",
      " 201.69087739 216.57422565 200.03141286 195.32306262 207.89417807\n",
      " 224.78747404 223.5523912  229.5127267  188.30714078 196.09597364\n",
      " 194.52438827 206.38521227 183.89497919 171.71247802 175.60690327\n",
      " 224.95932363 166.49790641 217.24291022 201.50164786 200.21515662\n",
      " 233.61908491 187.43143271 191.79280088 216.86875195 229.63623617\n",
      " 170.60845495 181.24378752 199.71849246 203.95558096 202.90137941\n",
      " 198.71581844 219.8955598  201.5000174  201.09642994 216.46318361\n",
      " 214.22891797 195.75155336 219.35192166 206.42763853 171.93875285\n",
      " 223.53133418 215.76697357 176.29515119 175.96721627 198.94498495\n",
      " 203.09484885 202.81634023 205.61903745 201.28414958 193.24613204\n",
      " 188.92048558 219.97280421 191.79822086 200.5264559  210.90160801\n",
      " 192.86016493 175.29468257 172.03889731 189.8316052  211.744795\n",
      " 191.19714105 212.65445051 200.44516087 178.99543545 193.10229057\n",
      " 221.85125354 204.41546461 211.74510758 198.01847468 173.17608833\n",
      " 213.49749081 225.89609648 183.76973747 192.1750214  191.26620882\n",
      " 184.1217795  171.90498821 185.69254314 193.78915638 211.01770136\n",
      " 203.07604913 179.11961731 196.16852809 207.79593624 223.73224435\n",
      " 212.77409723 206.70944787 209.3614164  198.18857723 220.43229983\n",
      " 181.61609585 219.10816529 221.10343241 199.40455871 189.56338983\n",
      " 210.07470236 233.62766414 184.61239494 195.16802301 197.04625394]\n"
     ]
    }
   ],
   "source": [
    "# Generate a random sata for the variable flipper_lenght_mm following a normal distribution.\n",
    "mean_flipper_length = df[\"flipper_length_mm\"].mean()\n",
    "std_dev_flipper_length = df[\"flipper_length_mm\"].std()\n",
    "\n",
    "number_of_observations = 150 \n",
    "\n",
    "# Simulate a normal distribution\n",
    "flipper_length_simulated_data = np.random.normal(loc=mean_flipper_length, scale=std_dev_flipper_length, size=number_of_observations)\n",
    "print(f\"Simulated Bill Lengths: {flipper_length_simulated_data}\")"
   ]
  },
  {
   "cell_type": "markdown",
   "metadata": {},
   "source": [
    "6. Body_mass_g\n",
    "\n",
    "In this case, we can also assume that the body mass variable follows a Normal Distribution."
   ]
  },
  {
   "cell_type": "code",
   "execution_count": 12,
   "metadata": {},
   "outputs": [
    {
     "name": "stdout",
     "output_type": "stream",
     "text": [
      "Simulated Body Mass: [5966.26595963 3128.0964076  4278.40615934 3382.89493763 3683.27578539\n",
      " 5594.82511126 2935.8561805  3840.94460918 4042.13557761 4934.99463254\n",
      " 4502.99558676 4898.30484544 3338.09284453 3931.03225485 4229.75568053\n",
      " 4818.63808124 3475.91242261 4445.51369772 4958.68388385 3030.830839\n",
      " 4510.04347844 3786.42526927 5762.55712816 3951.273291   5420.28989738\n",
      " 5446.21742987 5197.77565078 5620.71868326 3845.07587641 3346.68076686\n",
      " 5428.86442563 3526.47724847 4256.88618566 5326.21347852 4246.17711912\n",
      " 3678.61154981 5176.5285663  3637.85288326 5228.28949511 4039.18510034\n",
      " 4802.84117996 3868.14205481 3395.35219627 4144.98554956 5208.17692632\n",
      " 3682.29517971 4940.841297   5298.41915963 5540.15198951 4152.13376126\n",
      " 3591.62247987 4593.79782093 3917.98533794 2916.07171918 5501.41612441\n",
      " 4311.22455222 4033.03056089 4479.02774241 2444.72097293 6082.84297022\n",
      " 3271.75548827 5683.79583173 2728.09514799 4251.70145622 5248.71544454\n",
      " 4414.11481826 5360.47242841 4926.40232512 2893.69565168 4038.62301467\n",
      " 4945.31882079 5346.39765457 3986.35420874 3795.63734552 5246.46646457\n",
      " 5357.3715411  2436.7221437  3761.12732807 3825.67012031 3749.13818239\n",
      " 3805.91821454 3173.76239321 3617.19854937 5051.41484254 4662.16687302\n",
      " 5125.90953436 3478.17557094 5354.6526424  3381.13458494 5128.18393636\n",
      " 3512.51949718 3946.3371642  3453.83381955 4491.87507333 4862.24717786\n",
      " 4526.76054836 4195.688954   4193.64558212 4664.56129019 4927.3160716\n",
      " 4253.16418416 3475.56528561 4245.59616268 4540.4143011  4048.95553485\n",
      " 3231.25805804 5318.86269848 3869.36007435 4287.57065197 5013.20260656\n",
      " 4643.96771898 1975.6249773  4454.91715417 5067.18893308 5588.67198503\n",
      " 5089.48679894 4022.87041851 4114.71998257 3725.67248818 5072.85307284\n",
      " 4313.50961497 5845.54120443 3348.91477418 4158.32243148 4190.12914818\n",
      " 3378.44037926 3516.04927245 5138.42179926 4193.92336438 4417.38599241\n",
      " 2765.44094486 4319.15953753 3402.47004506 3283.8225074  3749.22230875\n",
      " 4966.12910642 3725.6898156  4383.98780122 4071.51770579 3355.94488647\n",
      " 3969.07694811 3295.1882465  4158.97317047 3232.54838914 5257.51191339\n",
      " 4751.61578731 5323.50240961 3953.10452017 3798.89241143 4020.03246808]\n"
     ]
    }
   ],
   "source": [
    "# Generate a random sata for the variable body_mass_g following a normal distribution.\n",
    "mean_body_mass = df[\"body_mass_g\"].mean()\n",
    "std_dev_body_mass = df[\"body_mass_g\"].std()\n",
    "\n",
    "number_of_observations = 150 \n",
    "\n",
    "# Simulate a normal distribution\n",
    "body_mass_simulated_data = np.random.normal(loc=mean_body_mass, scale=std_dev_body_mass, size=number_of_observations)\n",
    "print(f\"Simulated Body Mass: {body_mass_simulated_data}\")"
   ]
  },
  {
   "cell_type": "markdown",
   "metadata": {},
   "source": [
    "7. Sex \n",
    "\n",
    "The variable sex has a different distribution. According to the definition of the Binomial distribution, a binomial distribution is a probability distribution function that is used when there are exactly two possible outcomes of a trial that are mutually exclusive. \n",
    "So, in this case we can assume that the variable sex follows a binomial distribution as it has only two possible outcomes: male or female and both are exclusive.\n",
    "\n",
    "According to this, we are setting a random sex variable following a Binomial distribution. \n",
    "The binomial distribution is described by two parameters: 'n' the number of experiments performed, and 'p' the probability of success."
   ]
  },
  {
   "cell_type": "code",
   "execution_count": 13,
   "metadata": {},
   "outputs": [
    {
     "name": "stdout",
     "output_type": "stream",
     "text": [
      "sex\n",
      "MALE      0.504505\n",
      "FEMALE    0.495495\n",
      "Name: proportion, dtype: float64\n"
     ]
    }
   ],
   "source": [
    "# We need to know the proportion of males and females in the original dataset.\n",
    "sex_probabilities = df[\"sex\"].value_counts(normalize=True)\n",
    "print(sex_probabilities)"
   ]
  },
  {
   "cell_type": "code",
   "execution_count": 14,
   "metadata": {},
   "outputs": [
    {
     "name": "stdout",
     "output_type": "stream",
     "text": [
      "['MALE' 'FEMALE' 'MALE' 'MALE' 'FEMALE' 'FEMALE' 'FEMALE' 'MALE' 'MALE'\n",
      " 'FEMALE' 'FEMALE' 'FEMALE' 'FEMALE' 'MALE' 'MALE' 'MALE' 'FEMALE'\n",
      " 'FEMALE' 'FEMALE' 'MALE' 'MALE' 'FEMALE' 'FEMALE' 'FEMALE' 'MALE'\n",
      " 'FEMALE' 'FEMALE' 'MALE' 'FEMALE' 'FEMALE' 'FEMALE' 'MALE' 'FEMALE'\n",
      " 'MALE' 'MALE' 'MALE' 'MALE' 'MALE' 'FEMALE' 'FEMALE' 'FEMALE' 'MALE'\n",
      " 'MALE' 'MALE' 'FEMALE' 'FEMALE' 'FEMALE' 'MALE' 'FEMALE' 'MALE' 'MALE'\n",
      " 'FEMALE' 'MALE' 'FEMALE' 'FEMALE' 'FEMALE' 'MALE' 'MALE' 'MALE' 'MALE'\n",
      " 'MALE' 'MALE' 'FEMALE' 'FEMALE' 'FEMALE' 'FEMALE' 'FEMALE' 'MALE'\n",
      " 'FEMALE' 'MALE' 'MALE' 'MALE' 'MALE' 'MALE' 'MALE' 'FEMALE' 'FEMALE'\n",
      " 'FEMALE' 'FEMALE' 'FEMALE' 'FEMALE' 'FEMALE' 'FEMALE' 'FEMALE' 'MALE'\n",
      " 'MALE' 'MALE' 'FEMALE' 'MALE' 'FEMALE' 'FEMALE' 'MALE' 'MALE' 'FEMALE'\n",
      " 'MALE' 'MALE' 'FEMALE' 'FEMALE' 'MALE' 'FEMALE' 'FEMALE' 'FEMALE'\n",
      " 'FEMALE' 'FEMALE' 'MALE' 'MALE' 'FEMALE' 'FEMALE' 'FEMALE' 'FEMALE'\n",
      " 'FEMALE' 'MALE' 'MALE' 'MALE' 'FEMALE' 'FEMALE' 'MALE' 'MALE' 'MALE'\n",
      " 'MALE' 'MALE' 'FEMALE' 'MALE' 'MALE' 'FEMALE' 'FEMALE' 'MALE' 'MALE'\n",
      " 'FEMALE' 'FEMALE' 'MALE' 'MALE' 'MALE' 'FEMALE' 'FEMALE' 'MALE' 'MALE'\n",
      " 'FEMALE' 'MALE' 'FEMALE' 'FEMALE' 'MALE' 'FEMALE' 'MALE' 'FEMALE'\n",
      " 'FEMALE' 'MALE' 'FEMALE' 'MALE' 'MALE' 'MALE' 'FEMALE' 'MALE' 'FEMALE'\n",
      " 'MALE' 'FEMALE' 'FEMALE' 'MALE' 'FEMALE' 'MALE' 'FEMALE' 'MALE' 'FEMALE'\n",
      " 'MALE' 'MALE' 'MALE' 'MALE' 'MALE' 'FEMALE' 'MALE' 'FEMALE' 'FEMALE'\n",
      " 'FEMALE' 'FEMALE' 'MALE' 'MALE' 'MALE' 'FEMALE' 'MALE' 'FEMALE' 'MALE'\n",
      " 'MALE' 'FEMALE' 'MALE' 'MALE' 'FEMALE' 'MALE' 'MALE' 'MALE' 'FEMALE'\n",
      " 'MALE' 'FEMALE' 'MALE' 'FEMALE' 'MALE' 'MALE' 'FEMALE' 'MALE' 'MALE'\n",
      " 'MALE' 'MALE' 'MALE' 'MALE' 'MALE' 'MALE' 'FEMALE' 'MALE' 'MALE' 'MALE'\n",
      " 'FEMALE' 'FEMALE' 'MALE' 'MALE' 'FEMALE' 'FEMALE' 'MALE' 'FEMALE' 'MALE'\n",
      " 'FEMALE' 'FEMALE' 'MALE' 'FEMALE' 'FEMALE' 'FEMALE' 'FEMALE' 'MALE'\n",
      " 'MALE' 'MALE' 'MALE' 'FEMALE' 'MALE' 'FEMALE' 'FEMALE' 'FEMALE' 'FEMALE'\n",
      " 'MALE' 'FEMALE' 'MALE' 'MALE' 'MALE' 'FEMALE' 'FEMALE' 'FEMALE' 'MALE'\n",
      " 'MALE' 'FEMALE' 'FEMALE' 'MALE' 'FEMALE' 'FEMALE' 'MALE' 'FEMALE' 'MALE'\n",
      " 'FEMALE' 'FEMALE' 'FEMALE' 'FEMALE' 'FEMALE' 'MALE' 'MALE' 'FEMALE'\n",
      " 'FEMALE' 'MALE' 'MALE' 'FEMALE' 'MALE' 'FEMALE' 'MALE' 'FEMALE' 'MALE'\n",
      " 'MALE' 'MALE' 'FEMALE' 'FEMALE' 'FEMALE' 'FEMALE' 'FEMALE' 'MALE' 'MALE'\n",
      " 'MALE' 'FEMALE' 'FEMALE' 'MALE' 'MALE' 'MALE' 'MALE' 'FEMALE' 'MALE'\n",
      " 'MALE' 'FEMALE' 'MALE' 'FEMALE' 'MALE' 'FEMALE' 'MALE' 'MALE' 'FEMALE'\n",
      " 'MALE' 'MALE' 'MALE' 'FEMALE' 'MALE' 'FEMALE' 'FEMALE' 'MALE' 'FEMALE'\n",
      " 'MALE' 'FEMALE' 'MALE' 'MALE' 'MALE' 'MALE' 'FEMALE' 'FEMALE' 'MALE'\n",
      " 'MALE' 'FEMALE' 'FEMALE' 'MALE' 'MALE' 'FEMALE' 'FEMALE' 'MALE' 'MALE'\n",
      " 'FEMALE' 'FEMALE' 'MALE' 'MALE' 'FEMALE' 'FEMALE' 'MALE' 'MALE' 'FEMALE'\n",
      " 'FEMALE' 'MALE' 'FEMALE' 'MALE' 'MALE' 'MALE' 'FEMALE' 'MALE' 'MALE'\n",
      " 'MALE' 'FEMALE']\n"
     ]
    }
   ],
   "source": [
    "# Once we have the probabilities, we need to set 'n' which is the number of the sample.\n",
    "num_penguins = len(df)\n",
    "\n",
    "# Generate random sexes based on the observed probabilities.\n",
    "random_sex = np.random.choice(sex_probabilities.index, size=num_penguins, p=sex_probabilities.values)\n",
    "\n",
    "# Create a new 'sex' column in the DataFrame.\n",
    "df['sex'] = random_sex\n",
    "\n",
    "# Display the new 'sex' variable.\n",
    "print(random_sex)"
   ]
  },
  {
   "cell_type": "markdown",
   "metadata": {},
   "source": [
    "***\n",
    "\n",
    "## End"
   ]
  }
 ],
 "metadata": {
  "kernelspec": {
   "display_name": "base",
   "language": "python",
   "name": "python3"
  },
  "language_info": {
   "codemirror_mode": {
    "name": "ipython",
    "version": 3
   },
   "file_extension": ".py",
   "mimetype": "text/x-python",
   "name": "python",
   "nbconvert_exporter": "python",
   "pygments_lexer": "ipython3",
   "version": "3.9.13"
  },
  "orig_nbformat": 4
 },
 "nbformat": 4,
 "nbformat_minor": 2
}
