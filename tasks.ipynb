{
 "cells": [
  {
   "cell_type": "markdown",
   "metadata": {},
   "source": [
    "# Fundamentals of Data Analysis Tasks\n",
    "\n",
    "**Stefania Verduga**\n",
    "\n",
    "***"
   ]
  },
  {
   "cell_type": "markdown",
   "metadata": {},
   "source": [
    "## Task 1\n",
    "\n",
    "The Collatz conjecture"
   ]
  },
  {
   "cell_type": "code",
   "execution_count": 1,
   "metadata": {},
   "outputs": [],
   "source": [
    "def f(x):\n",
    "    # If x is even, divide it by two.\n",
    "    if x % 2 == 0:\n",
    "        return x // 2\n",
    "    else:\n",
    "        return (3 * x) + 1"
   ]
  },
  {
   "cell_type": "code",
   "execution_count": 2,
   "metadata": {},
   "outputs": [],
   "source": [
    "def collatz(x):\n",
    "    while x != 1:\n",
    "        print(x, end=', ')\n",
    "        x = f(x)\n",
    "    print(x)\n",
    "       "
   ]
  },
  {
   "cell_type": "code",
   "execution_count": 3,
   "metadata": {},
   "outputs": [
    {
     "name": "stdout",
     "output_type": "stream",
     "text": [
      "1000, 500, 250, 125, 376, 188, 94, 47, 142, 71, 214, 107, 322, 161, 484, 242, 121, 364, 182, 91, 274, 137, 412, 206, 103, 310, 155, 466, 233, 700, 350, 175, 526, 263, 790, 395, 1186, 593, 1780, 890, 445, 1336, 668, 334, 167, 502, 251, 754, 377, 1132, 566, 283, 850, 425, 1276, 638, 319, 958, 479, 1438, 719, 2158, 1079, 3238, 1619, 4858, 2429, 7288, 3644, 1822, 911, 2734, 1367, 4102, 2051, 6154, 3077, 9232, 4616, 2308, 1154, 577, 1732, 866, 433, 1300, 650, 325, 976, 488, 244, 122, 61, 184, 92, 46, 23, 70, 35, 106, 53, 160, 80, 40, 20, 10, 5, 16, 8, 4, 2, 1\n"
     ]
    }
   ],
   "source": [
    "collatz(1000)"
   ]
  },
  {
   "cell_type": "markdown",
   "metadata": {},
   "source": [
    "***\n",
    "## Task 2\n",
    "\n",
    "Give an overview of the penguins data set, explaining the types of variables it contains. Suggest the types of variables that should be used to model them in Python, explaining your rationale.\n",
    "\n",
    "The Palmer penguins dataset is a collection of data about penguins in the Palmer Archipelago, Antarctica, composed of 3 islands. Data were collected and made available by Dr. Kristen Gorman and the Palmer Station, Antarctica LTER.\n",
    "\n",
    "The palmer penguin data has lots of information about three penguin species in the Palmer Archipelago, including size measurements, clutch sizes, and blood isotope ratios. There are 344 rows and 8 columns.\n",
    "\n",
    "![Penguin's Species](https://miro.medium.com/v2/resize:fit:1400/1*KU-V8tWWQU3nDtw12-bQ_g.png)\n",
    "\n",
    "Image by Allison Horst (https://allisonhorst.com/)\n",
    "\n",
    "For each of the 344 penguins, numerical values of bill length/depth, flipper length and body mass were measured, and additional categorical characteristics like sex, species and island were recorded.\n",
    "\n",
    "This dataset can be found in the following link: \n",
    "\n",
    "https://github.com/mwaskom/seaborn-data/blob/master/penguins.csv\n",
    "\n",
    "The CSV file previously downloaded, is read into our repository using the Pandas 'read_csv' method and it is stored in a pandas DataFrame object named 'df'. \n",
    "\n",
    "Using the method 'info' we will get all the relevant information about this dataset as the data type and its values."
   ]
  },
  {
   "cell_type": "code",
   "execution_count": 4,
   "metadata": {},
   "outputs": [
    {
     "data": {
      "text/html": [
       "<div>\n",
       "<style scoped>\n",
       "    .dataframe tbody tr th:only-of-type {\n",
       "        vertical-align: middle;\n",
       "    }\n",
       "\n",
       "    .dataframe tbody tr th {\n",
       "        vertical-align: top;\n",
       "    }\n",
       "\n",
       "    .dataframe thead th {\n",
       "        text-align: right;\n",
       "    }\n",
       "</style>\n",
       "<table border=\"1\" class=\"dataframe\">\n",
       "  <thead>\n",
       "    <tr style=\"text-align: right;\">\n",
       "      <th></th>\n",
       "      <th>species</th>\n",
       "      <th>island</th>\n",
       "      <th>bill_length_mm</th>\n",
       "      <th>bill_depth_mm</th>\n",
       "      <th>flipper_length_mm</th>\n",
       "      <th>body_mass_g</th>\n",
       "      <th>sex</th>\n",
       "    </tr>\n",
       "  </thead>\n",
       "  <tbody>\n",
       "    <tr>\n",
       "      <th>0</th>\n",
       "      <td>Adelie</td>\n",
       "      <td>Torgersen</td>\n",
       "      <td>39.1</td>\n",
       "      <td>18.7</td>\n",
       "      <td>181.0</td>\n",
       "      <td>3750.0</td>\n",
       "      <td>MALE</td>\n",
       "    </tr>\n",
       "    <tr>\n",
       "      <th>1</th>\n",
       "      <td>Adelie</td>\n",
       "      <td>Torgersen</td>\n",
       "      <td>39.5</td>\n",
       "      <td>17.4</td>\n",
       "      <td>186.0</td>\n",
       "      <td>3800.0</td>\n",
       "      <td>FEMALE</td>\n",
       "    </tr>\n",
       "    <tr>\n",
       "      <th>2</th>\n",
       "      <td>Adelie</td>\n",
       "      <td>Torgersen</td>\n",
       "      <td>40.3</td>\n",
       "      <td>18.0</td>\n",
       "      <td>195.0</td>\n",
       "      <td>3250.0</td>\n",
       "      <td>FEMALE</td>\n",
       "    </tr>\n",
       "    <tr>\n",
       "      <th>3</th>\n",
       "      <td>Adelie</td>\n",
       "      <td>Torgersen</td>\n",
       "      <td>NaN</td>\n",
       "      <td>NaN</td>\n",
       "      <td>NaN</td>\n",
       "      <td>NaN</td>\n",
       "      <td>NaN</td>\n",
       "    </tr>\n",
       "    <tr>\n",
       "      <th>4</th>\n",
       "      <td>Adelie</td>\n",
       "      <td>Torgersen</td>\n",
       "      <td>36.7</td>\n",
       "      <td>19.3</td>\n",
       "      <td>193.0</td>\n",
       "      <td>3450.0</td>\n",
       "      <td>FEMALE</td>\n",
       "    </tr>\n",
       "  </tbody>\n",
       "</table>\n",
       "</div>"
      ],
      "text/plain": [
       "  species     island  bill_length_mm  bill_depth_mm  flipper_length_mm   \n",
       "0  Adelie  Torgersen            39.1           18.7              181.0  \\\n",
       "1  Adelie  Torgersen            39.5           17.4              186.0   \n",
       "2  Adelie  Torgersen            40.3           18.0              195.0   \n",
       "3  Adelie  Torgersen             NaN            NaN                NaN   \n",
       "4  Adelie  Torgersen            36.7           19.3              193.0   \n",
       "\n",
       "   body_mass_g     sex  \n",
       "0       3750.0    MALE  \n",
       "1       3800.0  FEMALE  \n",
       "2       3250.0  FEMALE  \n",
       "3          NaN     NaN  \n",
       "4       3450.0  FEMALE  "
      ]
     },
     "execution_count": 4,
     "metadata": {},
     "output_type": "execute_result"
    }
   ],
   "source": [
    "import pandas as pd\n",
    "df = pd.read_csv('/Users/stefania/Fundamentals of data analysis/fundamentals-of-data-analysis-project/penguins.csv')\n",
    "df.head()"
   ]
  },
  {
   "cell_type": "code",
   "execution_count": 5,
   "metadata": {},
   "outputs": [
    {
     "name": "stdout",
     "output_type": "stream",
     "text": [
      "<class 'pandas.core.frame.DataFrame'>\n",
      "RangeIndex: 344 entries, 0 to 343\n",
      "Data columns (total 7 columns):\n",
      " #   Column             Non-Null Count  Dtype  \n",
      "---  ------             --------------  -----  \n",
      " 0   species            344 non-null    object \n",
      " 1   island             344 non-null    object \n",
      " 2   bill_length_mm     342 non-null    float64\n",
      " 3   bill_depth_mm      342 non-null    float64\n",
      " 4   flipper_length_mm  342 non-null    float64\n",
      " 5   body_mass_g        342 non-null    float64\n",
      " 6   sex                333 non-null    object \n",
      "dtypes: float64(4), object(3)\n",
      "memory usage: 18.9+ KB\n"
     ]
    }
   ],
   "source": [
    "df.info()"
   ]
  },
  {
   "cell_type": "markdown",
   "metadata": {},
   "source": [
    "The dataset consists of 344 observations with 7 columns referring to the features used to describe these observations. Three of these variables are nominal while the other four are numeric.\n",
    "\n",
    "- species: penguin species (Chinstrap, Adélie, or Gentoo)\n",
    "- island: island name (Dream, Torgersen, or Biscoe) in the Palmer Archipelago (Antarctica)\n",
    "- bill_length_mm: bill length (mm)\n",
    "- bill_depth_mm: bill depth (mm)\n",
    "- flipper_length_mm: flipper length (mm)\n",
    "- body_mass_g: body mass (g)\n",
    "- sex: penguin sex\n",
    "\n",
    "Let's analyze the type of variable for each one:\n",
    "\n",
    "- **Species**: This is a categorical/nominal variable which refers to the specie of each penguin. The dataset gather information about three different species Chinstrap, Adélie and Gentoo.\n",
    "\n",
    "- **Island**: Like the previous variable, this is a categorical/numerical variable which refers to the name of the islands where data were collected for each of the sample values (Tongersen, Dream, Biscoe).\n",
    "\n",
    "- **Bill Length**: The bill is the upper ridge of the penguin's beak, and this variable is a numerical value measured in millimeters.\n",
    "\n",
    "- **Bill Depth**: This variable provides information on the attributes of the penguin beak, in this case its depth size, which is a numerical variable.\n",
    "\n",
    "- **Flipper Length**: In this case, this variable provides us with information on the measurements of the penguin's flippers, so we are dealing with a numerical variable.\n",
    "\n",
    "- **Body Mass**: This variable indicates the weight of the penguins, measured in grams, which is a numerical variable.\n",
    "\n",
    "- **Sex**: The variable sex refers to the gender of the penguins, it is a nominal variable with only two possible values, in this case female or male.\n",
    "\n",
    "For a better understanding of the measurement of the penguin's bill, we can find a picture explanation as follows:\n",
    "\n",
    "![Penguin's Bill Length vs Bill Depth](https://allisonhorst.github.io/palmerpenguins/reference/figures/culmen_depth.png)\n",
    "Image by Allison Horst (https://allisonhorst.com/)"
   ]
  },
  {
   "cell_type": "markdown",
   "metadata": {},
   "source": [
    "***\n",
    "## Task 3\n",
    "\n",
    "For each of the variables in the penguins data set, suggest what probability distribution from the numpy random distributions list is the most appropriate to model the variable.\n",
    "\n",
    "According to the penguin dataset, we have the following variables:\n",
    "- species\n",
    "- island \n",
    "- bill_length_mm\n",
    "- bill_depth_mm \n",
    "- flipper_length_mm\n",
    "- body_mass_g\n",
    "-  sex            \n",
    "\n",
    "In order to figure out the distributions of each variable, We need to take into account the number of observations for each one. We need also to import numpy to work with random variables."
   ]
  },
  {
   "cell_type": "code",
   "execution_count": 6,
   "metadata": {},
   "outputs": [],
   "source": [
    "# Import numpy.\n",
    "import numpy as np"
   ]
  },
  {
   "cell_type": "markdown",
   "metadata": {},
   "source": [
    "1. Species\n",
    "\n",
    "The variable \"species\" in the Penguin dataset represents the categorical variable indicating the penguin species. The distribution of this variable will show the frequency or proportion of each species in the dataset. We should need take into account that this variable has three possible outcomes: Chinstrap, Adélie or Gentoo.\n",
    "\n",
    "The Binomial distribution is a statistical distribution that summarizes the probability that a value will take one of two independent values under a given set of parameters or assumptions. According to this definition, we can confirm that this variable cannot follow a binomial distribution, but it can follow a multinomial distribution since the observations can be from 3 different nominal categories."
   ]
  },
  {
   "cell_type": "code",
   "execution_count": 7,
   "metadata": {},
   "outputs": [
    {
     "name": "stdout",
     "output_type": "stream",
     "text": [
      "Simulated Observations: [72 53 25]\n"
     ]
    }
   ],
   "source": [
    "# Generate a random data for the variable Species.\n",
    "species_counts = df[\"species\"].value_counts()\n",
    "\n",
    "# Calculate probabilities.\n",
    "probabilities = species_counts / len(df)\n",
    "\n",
    "number_of_observations = 150 \n",
    "\n",
    "multinomial_variable = np.random.multinomial(n=number_of_observations, pvals=probabilities)\n",
    "print(f\"Simulated Observations: {multinomial_variable}\")"
   ]
  },
  {
   "cell_type": "markdown",
   "metadata": {},
   "source": [
    "The previous output indicates that there are 73 observations for Adélie, 47 observations for Chinstrap and 30 observations for Gentoo.\n",
    "\n",
    "2. Island\n",
    "\n",
    "This variable is similar to the previous one. The three possible outcomes for this variables are: Tongersen, Dream and Biscoe. So as in the previous variable, we can say that this variable follows a multinomial distribution."
   ]
  },
  {
   "cell_type": "code",
   "execution_count": 8,
   "metadata": {},
   "outputs": [
    {
     "name": "stdout",
     "output_type": "stream",
     "text": [
      "Simulated Observations: [64 55 31]\n"
     ]
    }
   ],
   "source": [
    "# Generate a random data for the variable Island.\n",
    "species_counts = df[\"island\"].value_counts()\n",
    "\n",
    "# Calculate probabilities.\n",
    "probabilities = species_counts / len(df)\n",
    "\n",
    "number_of_observations = 150 \n",
    "\n",
    "multinomial_variable = np.random.multinomial(n=number_of_observations, pvals=probabilities)\n",
    "print(f\"Simulated Observations: {multinomial_variable}\")"
   ]
  },
  {
   "cell_type": "markdown",
   "metadata": {},
   "source": [
    "The previous output indicates that there are 71 observations for Tongersen, 55 observations for Biscoep and 24 observations for Dream.\n",
    "\n",
    "3. Bill_length_mm\n",
    "\n",
    "In the case of the Bill lenght variable, we can assume that if follows a Normal / Gaussian bell distribution.\n",
    "A normal distribution represents how the values of a characteristic appear in a population, for example the height of people in any country or in this case, the bill lenght of the penguins. In these characteristics, there will be one value that will be the most frequent and that will also be the value located in the middle of all the observations recorded in that population, even if we calculate that value, which is the arithmetic mean, adding all the heights recorded and dividing that result by the number of registered people, both data will coincide (or will be very similar)."
   ]
  },
  {
   "cell_type": "code",
   "execution_count": 9,
   "metadata": {},
   "outputs": [
    {
     "name": "stdout",
     "output_type": "stream",
     "text": [
      "Simulated Bill Lengths: [35.45815215 36.84078711 50.69904897 55.00991329 44.28911586 35.51303234\n",
      " 48.39483325 36.97522463 52.72598771 37.49916522 39.65517751 43.27844258\n",
      " 44.24482514 45.93840407 36.83885268 42.77835907 48.13784307 41.79471494\n",
      " 41.26938717 43.21901224 49.04335517 46.45024838 54.85544529 40.78812746\n",
      " 47.99970324 48.7008385  42.11027323 37.08775119 44.70805115 38.70854453\n",
      " 30.15445264 49.82468534 44.00985272 48.62910492 38.08687046 42.76543268\n",
      " 48.4118042  46.05444714 44.03037151 39.92875795 46.36178898 49.6583258\n",
      " 53.0139964  43.15442237 40.82050775 52.86870781 41.86418625 38.70251744\n",
      " 42.989581   52.87243195 41.57906504 46.8891296  36.09098817 46.87564422\n",
      " 48.68198865 43.76384603 47.83033433 38.52001799 55.10865156 44.86948848\n",
      " 52.61156252 40.92961534 40.11541065 51.61234497 47.72664391 42.78493928\n",
      " 47.7117112  48.23426479 44.68558653 39.81477459 39.97289977 41.29247749\n",
      " 42.03603166 48.20010436 33.01388386 47.13401268 49.02160096 39.61060168\n",
      " 50.31222887 44.3956002  40.68811315 39.72903155 38.44530016 37.15726982\n",
      " 48.68580649 38.26203874 43.3459283  49.04702564 41.35260787 53.57117322\n",
      " 45.31309255 41.88707872 38.11555071 44.25893802 46.76214941 38.2796603\n",
      " 41.08943935 47.73489194 39.90774084 37.79157239 42.35323974 47.07363976\n",
      " 38.31749133 38.87660719 48.5184518  41.51339035 40.29109681 43.80042259\n",
      " 43.72814242 42.23626285 44.1713082  46.30672763 44.8274774  53.25925641\n",
      " 51.53589691 49.8162599  47.72886334 31.7450694  55.77595915 50.88026661\n",
      " 40.88642163 39.25256146 44.1882363  43.34096947 54.3514001  36.06645287\n",
      " 53.18916277 39.54220061 44.28909059 45.16758907 41.48984432 36.18090452\n",
      " 42.1133452  40.74106697 39.21416945 36.62694201 43.05348864 40.05119729\n",
      " 50.11082583 35.42889603 51.61058751 45.69819307 28.91649713 41.94821581\n",
      " 44.58885917 38.73370014 46.69008812 43.3687124  49.36209855 48.6545232 ]\n"
     ]
    }
   ],
   "source": [
    "# Generate a random sata for the variable bill_lenght_mm following a normal distribution.\n",
    "mean_bill_length = df[\"bill_length_mm\"].mean()\n",
    "std_dev_bill_length = df[\"bill_length_mm\"].std()\n",
    "\n",
    "number_of_observations = 150 \n",
    "\n",
    "# Simulate a normal distribution\n",
    "bill_length_simulated_data = np.random.normal(loc=mean_bill_length, scale=std_dev_bill_length, size=number_of_observations)\n",
    "print(f\"Simulated Bill Lengths: {bill_length_simulated_data}\")"
   ]
  },
  {
   "cell_type": "markdown",
   "metadata": {},
   "source": [
    "4. Bill_depth_mm \n",
    "\n",
    "Just as in the previous variable and since it is a natural phenomenon, we are going to consider that this variable follows a normal distribution or Gaussian Bell."
   ]
  },
  {
   "cell_type": "code",
   "execution_count": 10,
   "metadata": {},
   "outputs": [
    {
     "name": "stdout",
     "output_type": "stream",
     "text": [
      "Simulated Bill Lengths: [17.06836232 17.77810954 14.80868511 19.73340984 18.61265106 18.74168195\n",
      " 19.04649489 15.07415153 19.59927887 23.82873551 18.25814201 19.90876467\n",
      " 17.26998032 16.54513785 18.23225581 14.30822273 18.66963928 19.50230612\n",
      " 18.30523519 16.69866795 16.25849605 17.66328034 21.49085092 14.13448174\n",
      " 15.69931981 15.38238371 11.24801204 21.68945602 15.39621945 14.71585114\n",
      " 18.93618706 17.35076791 16.78256133 15.78135914 18.30077301 14.93657949\n",
      " 16.0746646  19.54389617 17.31819808 17.11036281 13.69036681 15.32915416\n",
      " 17.61515634 16.1320801  19.50149136 15.15293169 18.84872409 13.24065403\n",
      " 14.79816327 20.04153954 19.38370161 18.18430392 17.59565195 17.47697588\n",
      " 14.41869832 16.08411416 15.33877285 18.33926301 17.1461142  16.56341833\n",
      " 16.10669374 11.37482332 18.52376206 17.72606809 17.42912465 19.78889143\n",
      " 16.39442901 18.92834823 16.18745878 15.32202517 18.05492242 21.2606031\n",
      " 20.94974514 17.62167951 16.35206201 16.10866503 15.79907688 17.24404084\n",
      " 13.72585896 20.78253954 14.50588562 15.97698507 14.86817386 15.14913267\n",
      " 21.46129123 16.64806772 17.26724922 18.21254339 16.56885675 17.36334499\n",
      " 19.15279621 17.02302687 18.00481227 16.42462691 19.53259343 15.84220016\n",
      " 19.77597472 15.65540037 16.35842918 16.30488324 18.86196006 16.31765596\n",
      " 20.8835755  20.41511836 16.53796376 14.43873369 15.19543337 16.75219016\n",
      " 19.23657478 17.46337154 18.63138035 15.0127468  18.23687131 20.08495237\n",
      " 19.22725214 18.15545299 19.55557708 18.81960426 16.44903976 16.1809192\n",
      " 15.35916667 12.22390956 19.65711948 17.22492877 13.73474371 16.00774312\n",
      " 14.58497174 14.97040422 14.27536034 17.19675157 19.00511953 18.3846611\n",
      " 16.70133411 14.14448832 16.4892297  17.12658858 12.93841873 14.15270472\n",
      " 15.31267683 17.49642946 17.96273912 14.40491995 15.10380912 16.22000714\n",
      " 15.9189896  13.42744324 17.70482005 16.8285767  16.4276621  19.83448586]\n"
     ]
    }
   ],
   "source": [
    "# Generate a random sata for the variable bill_depth_mm following a normal distribution.\n",
    "mean_bill_depth = df[\"bill_depth_mm\"].mean()\n",
    "std_dev_bill_depth = df[\"bill_depth_mm\"].std()\n",
    "\n",
    "number_of_observations = 150 \n",
    "\n",
    "# Simulate a normal distribution\n",
    "bill_depth_simulated_data = np.random.normal(loc=mean_bill_depth, scale=std_dev_bill_depth, size=number_of_observations)\n",
    "print(f\"Simulated Bill Lengths: {bill_depth_simulated_data}\")"
   ]
  },
  {
   "cell_type": "markdown",
   "metadata": {},
   "source": [
    "5. Flipper_length_mm\n",
    "\n",
    "Again here, as this variable explains a phisycal phenomenon of the penguins, this variable can be normally distributed."
   ]
  },
  {
   "cell_type": "code",
   "execution_count": 11,
   "metadata": {},
   "outputs": [
    {
     "name": "stdout",
     "output_type": "stream",
     "text": [
      "Simulated Bill Lengths: [205.76040286 179.7278969  193.48440943 206.42087209 211.24831954\n",
      " 193.17372887 229.70353061 169.68879943 218.2435462  221.93934253\n",
      " 215.52887413 178.29505682 202.74238217 169.23474678 201.72234461\n",
      " 186.03934806 177.06752895 210.41517575 208.81591759 201.95895745\n",
      " 198.70571542 208.84432969 184.97395297 212.56884875 199.28261938\n",
      " 187.14307631 177.46421344 222.85753167 178.88945371 193.42129643\n",
      " 201.41089279 186.77722492 212.15887583 207.21863684 204.67497605\n",
      " 197.93642269 192.40657753 190.94555177 209.00189398 210.66689525\n",
      " 207.15339852 208.9950184  204.98925256 200.87346786 188.80823416\n",
      " 200.38261322 199.64769686 227.26489721 183.74804004 190.85943811\n",
      " 234.14701356 222.57625426 201.72636702 201.41050583 199.93229423\n",
      " 217.279716   198.6554775  243.11552213 177.62464173 199.16816089\n",
      " 187.13386935 179.72565481 198.22517538 200.65247989 186.90573407\n",
      " 181.06177539 197.63196371 178.4833419  194.15766197 201.86078549\n",
      " 214.64987047 191.29453555 198.22660828 203.74203908 219.71520297\n",
      " 205.28172317 181.79013234 212.81920194 201.77569436 210.92953406\n",
      " 202.59360623 202.11857397 188.38992288 193.81082339 209.09674368\n",
      " 197.40942348 200.08225807 205.53314869 221.51208066 172.01316688\n",
      " 212.30107495 202.80702765 212.64437733 199.6731274  188.51339784\n",
      " 203.81036449 194.76883666 221.14949465 192.96118314 203.37804286\n",
      " 214.58171456 194.82062653 192.02619625 221.70995983 219.00995742\n",
      " 188.74837164 209.0551906  187.73669645 201.72726577 207.58437826\n",
      " 193.07955135 217.17455749 208.07944537 199.20728149 201.22271164\n",
      " 202.95962159 218.68116193 185.05613025 229.10621624 196.84961791\n",
      " 215.93073099 212.49058432 214.61290549 180.02867538 217.02647777\n",
      " 213.62486622 234.86123105 197.76939354 187.97362937 234.40894873\n",
      " 209.21247498 213.5064732  196.41317655 199.13992819 219.39437099\n",
      " 192.3321005  215.32794601 184.10177283 180.16457818 221.42255973\n",
      " 216.99304259 213.72588491 204.06646874 233.54207593 211.88222455\n",
      " 201.92930154 196.38636995 204.8124162  191.3820862  210.24354941]\n"
     ]
    }
   ],
   "source": [
    "# Generate a random sata for the variable flipper_lenght_mm following a normal distribution.\n",
    "mean_flipper_length = df[\"flipper_length_mm\"].mean()\n",
    "std_dev_flipper_length = df[\"flipper_length_mm\"].std()\n",
    "\n",
    "number_of_observations = 150 \n",
    "\n",
    "# Simulate a normal distribution\n",
    "flipper_length_simulated_data = np.random.normal(loc=mean_flipper_length, scale=std_dev_flipper_length, size=number_of_observations)\n",
    "print(f\"Simulated Bill Lengths: {flipper_length_simulated_data}\")"
   ]
  },
  {
   "cell_type": "markdown",
   "metadata": {},
   "source": [
    "6. Body_mass_g\n",
    "\n",
    "In this case, we can also assume that the body mass variable follows a Normal Distribution."
   ]
  },
  {
   "cell_type": "code",
   "execution_count": 12,
   "metadata": {},
   "outputs": [
    {
     "name": "stdout",
     "output_type": "stream",
     "text": [
      "Simulated Body Mass: [4770.17272131 5023.21050142 4479.70174628 6288.43450867 4252.83625662\n",
      " 3577.68174367 3597.43440296 4550.32171622 2964.70644053 5605.11874874\n",
      " 2947.96926475 3561.66239737 4503.5484538  4986.84565341 4643.16585907\n",
      " 5703.94788548 5085.29944859 5290.02428879 4355.21484462 3536.31617231\n",
      " 3268.75724571 4586.26724524 3947.0934752  4046.66249984 3674.61900772\n",
      " 3796.85833857 3455.28575359 3644.82683721 4080.39495142 4424.8736931\n",
      " 2474.12084348 4561.7008691  4407.85170983 4843.16310951 5464.28503164\n",
      " 4275.39590013 3086.549698   4615.07476751 3544.72603066 3413.91512661\n",
      " 4558.14297716 6050.85420409 2438.65311854 3959.15502533 4831.13033785\n",
      " 4044.13974591 4902.45541111 6157.91016834 4669.6255872  3439.9415294\n",
      " 3819.36125849 5331.53392212 5396.43973782 4074.53604502 5613.42228448\n",
      " 4910.21655615 3309.43879152 3435.61824132 4624.47671079 4893.76037054\n",
      " 4526.56665262 5192.68307616 4749.77137065 4667.34649211 3872.68272689\n",
      " 3998.08280227 4437.48130723 3500.06077935 4207.97958075 4436.52388374\n",
      " 3726.72023621 3489.91589737 5148.61639871 3146.77374904 3840.60467119\n",
      " 5357.67740517 3804.64692103 3796.64894753 3841.8093274  4587.3456091\n",
      " 4573.00732977 3108.84910743 3117.64107863 3036.0490521  4505.65653003\n",
      " 3417.97079285 5255.02785004 3780.29169677 6385.98907682 3602.78365053\n",
      " 3275.52284506 4032.98056679 3242.96082054 4821.21420917 4199.56756904\n",
      " 4293.25728965 4177.7169167  5796.97252695 5282.59265567 3188.64901472\n",
      " 3227.13823307 5399.1286503  4374.19524804 4303.51297042 3123.93672627\n",
      " 3732.45726282 4444.24626275 4708.17931071 3401.5185321  2741.55702022\n",
      " 3189.14266825 3768.37414306 4706.65187428 3804.06665698 2757.23791594\n",
      " 5294.85222111 4462.9288599  4201.25498474 5448.79561676 4576.9818369\n",
      " 3587.28625452 4495.90069077 4420.31111636 4681.5816034  4876.92155781\n",
      " 5262.80212423 1451.22634706 5459.71881804 4183.38140473 3710.40570462\n",
      " 2731.44332334 4210.90229876 4697.88786457 4677.90069934 5066.81367537\n",
      " 3525.84981729 4071.53634818 3223.34612272 2990.47738092 5458.80394402\n",
      " 4679.99826634 4806.40572465 4191.54058658 3844.73714329 3749.11216698\n",
      " 4420.60357278 2409.02527369 2986.01802707 2968.3924808  3936.53190734]\n"
     ]
    }
   ],
   "source": [
    "# Generate a random sata for the variable body_mass_g following a normal distribution.\n",
    "mean_body_mass = df[\"body_mass_g\"].mean()\n",
    "std_dev_body_mass = df[\"body_mass_g\"].std()\n",
    "\n",
    "number_of_observations = 150 \n",
    "\n",
    "# Simulate a normal distribution\n",
    "body_mass_simulated_data = np.random.normal(loc=mean_body_mass, scale=std_dev_body_mass, size=number_of_observations)\n",
    "print(f\"Simulated Body Mass: {body_mass_simulated_data}\")"
   ]
  },
  {
   "cell_type": "markdown",
   "metadata": {},
   "source": [
    "7. Sex \n",
    "\n",
    "The variable sex has a different distribution. According to the definition of the Binomial distribution, a binomial distribution is a probability distribution function that is used when there are exactly two possible outcomes of a trial that are mutually exclusive. \n",
    "So, in this case we can assume that the variable sex follows a binomial distribution as it has only two possible outcomes: male or female and both are exclusive.\n",
    "\n",
    "According to this, we are setting a random sex variable following a Binomial distribution. \n",
    "The binomial distribution is described by two parameters: 'n' the number of experiments performed, and 'p' the probability of success."
   ]
  },
  {
   "cell_type": "code",
   "execution_count": 13,
   "metadata": {},
   "outputs": [
    {
     "name": "stdout",
     "output_type": "stream",
     "text": [
      "sex\n",
      "MALE      0.504505\n",
      "FEMALE    0.495495\n",
      "Name: proportion, dtype: float64\n"
     ]
    }
   ],
   "source": [
    "# We need to know the proportion of males and females in the original dataset.\n",
    "sex_probabilities = df[\"sex\"].value_counts(normalize=True)\n",
    "print(sex_probabilities)"
   ]
  },
  {
   "cell_type": "code",
   "execution_count": 14,
   "metadata": {},
   "outputs": [
    {
     "name": "stdout",
     "output_type": "stream",
     "text": [
      "['MALE' 'FEMALE' 'FEMALE' 'FEMALE' 'FEMALE' 'FEMALE' 'MALE' 'MALE'\n",
      " 'FEMALE' 'FEMALE' 'FEMALE' 'MALE' 'MALE' 'MALE' 'MALE' 'MALE' 'MALE'\n",
      " 'MALE' 'MALE' 'MALE' 'MALE' 'MALE' 'FEMALE' 'MALE' 'FEMALE' 'FEMALE'\n",
      " 'FEMALE' 'FEMALE' 'FEMALE' 'FEMALE' 'MALE' 'MALE' 'MALE' 'MALE' 'MALE'\n",
      " 'MALE' 'FEMALE' 'MALE' 'MALE' 'MALE' 'FEMALE' 'FEMALE' 'MALE' 'MALE'\n",
      " 'FEMALE' 'FEMALE' 'MALE' 'FEMALE' 'MALE' 'MALE' 'FEMALE' 'MALE' 'MALE'\n",
      " 'FEMALE' 'MALE' 'FEMALE' 'MALE' 'FEMALE' 'FEMALE' 'MALE' 'MALE' 'FEMALE'\n",
      " 'MALE' 'FEMALE' 'FEMALE' 'MALE' 'MALE' 'FEMALE' 'FEMALE' 'MALE' 'FEMALE'\n",
      " 'MALE' 'FEMALE' 'FEMALE' 'FEMALE' 'FEMALE' 'MALE' 'MALE' 'FEMALE'\n",
      " 'FEMALE' 'MALE' 'MALE' 'MALE' 'FEMALE' 'FEMALE' 'FEMALE' 'FEMALE'\n",
      " 'FEMALE' 'MALE' 'MALE' 'MALE' 'FEMALE' 'FEMALE' 'MALE' 'FEMALE' 'FEMALE'\n",
      " 'MALE' 'MALE' 'FEMALE' 'MALE' 'MALE' 'FEMALE' 'FEMALE' 'MALE' 'FEMALE'\n",
      " 'MALE' 'FEMALE' 'MALE' 'MALE' 'MALE' 'FEMALE' 'FEMALE' 'MALE' 'MALE'\n",
      " 'MALE' 'FEMALE' 'FEMALE' 'FEMALE' 'MALE' 'MALE' 'FEMALE' 'MALE' 'MALE'\n",
      " 'MALE' 'FEMALE' 'MALE' 'FEMALE' 'FEMALE' 'MALE' 'FEMALE' 'MALE' 'MALE'\n",
      " 'MALE' 'FEMALE' 'FEMALE' 'MALE' 'MALE' 'FEMALE' 'MALE' 'FEMALE' 'MALE'\n",
      " 'FEMALE' 'FEMALE' 'MALE' 'MALE' 'MALE' 'MALE' 'MALE' 'MALE' 'MALE'\n",
      " 'FEMALE' 'FEMALE' 'FEMALE' 'MALE' 'FEMALE' 'FEMALE' 'MALE' 'FEMALE'\n",
      " 'FEMALE' 'MALE' 'MALE' 'FEMALE' 'MALE' 'MALE' 'FEMALE' 'MALE' 'MALE'\n",
      " 'MALE' 'MALE' 'FEMALE' 'MALE' 'MALE' 'MALE' 'MALE' 'MALE' 'FEMALE'\n",
      " 'FEMALE' 'MALE' 'MALE' 'FEMALE' 'FEMALE' 'FEMALE' 'FEMALE' 'FEMALE'\n",
      " 'MALE' 'MALE' 'MALE' 'FEMALE' 'FEMALE' 'MALE' 'FEMALE' 'FEMALE' 'MALE'\n",
      " 'MALE' 'MALE' 'MALE' 'FEMALE' 'MALE' 'FEMALE' 'FEMALE' 'FEMALE' 'MALE'\n",
      " 'FEMALE' 'FEMALE' 'MALE' 'FEMALE' 'FEMALE' 'FEMALE' 'FEMALE' 'FEMALE'\n",
      " 'MALE' 'MALE' 'MALE' 'MALE' 'MALE' 'MALE' 'FEMALE' 'MALE' 'MALE' 'FEMALE'\n",
      " 'FEMALE' 'MALE' 'FEMALE' 'MALE' 'MALE' 'FEMALE' 'MALE' 'MALE' 'MALE'\n",
      " 'MALE' 'FEMALE' 'MALE' 'FEMALE' 'FEMALE' 'FEMALE' 'FEMALE' 'FEMALE'\n",
      " 'FEMALE' 'FEMALE' 'MALE' 'MALE' 'MALE' 'MALE' 'MALE' 'FEMALE' 'MALE'\n",
      " 'FEMALE' 'FEMALE' 'FEMALE' 'MALE' 'FEMALE' 'MALE' 'FEMALE' 'FEMALE'\n",
      " 'MALE' 'MALE' 'FEMALE' 'MALE' 'MALE' 'FEMALE' 'MALE' 'FEMALE' 'MALE'\n",
      " 'MALE' 'MALE' 'MALE' 'FEMALE' 'FEMALE' 'FEMALE' 'MALE' 'FEMALE' 'MALE'\n",
      " 'FEMALE' 'MALE' 'MALE' 'FEMALE' 'FEMALE' 'MALE' 'MALE' 'MALE' 'FEMALE'\n",
      " 'MALE' 'MALE' 'FEMALE' 'FEMALE' 'MALE' 'FEMALE' 'MALE' 'FEMALE' 'FEMALE'\n",
      " 'MALE' 'FEMALE' 'FEMALE' 'MALE' 'FEMALE' 'MALE' 'MALE' 'MALE' 'FEMALE'\n",
      " 'FEMALE' 'FEMALE' 'FEMALE' 'FEMALE' 'FEMALE' 'FEMALE' 'MALE' 'MALE'\n",
      " 'FEMALE' 'MALE' 'MALE' 'MALE' 'MALE' 'MALE' 'FEMALE' 'FEMALE' 'FEMALE'\n",
      " 'MALE' 'FEMALE' 'FEMALE' 'MALE' 'MALE' 'MALE' 'MALE' 'FEMALE' 'MALE'\n",
      " 'FEMALE' 'FEMALE' 'FEMALE' 'MALE' 'FEMALE' 'FEMALE' 'MALE' 'MALE' 'MALE'\n",
      " 'FEMALE' 'MALE' 'MALE' 'FEMALE' 'FEMALE' 'MALE' 'FEMALE' 'MALE' 'MALE'\n",
      " 'FEMALE']\n"
     ]
    }
   ],
   "source": [
    "# Once we have the probabilities, we need to set 'n' which is the number of the sample.\n",
    "num_penguins = len(df)\n",
    "\n",
    "# Generate random sexes based on the observed probabilities.\n",
    "random_sex = np.random.choice(sex_probabilities.index, size=num_penguins, p=sex_probabilities.values)\n",
    "\n",
    "# Create a new 'sex' column in the DataFrame.\n",
    "df['sex'] = random_sex\n",
    "\n",
    "# Display the new 'sex' variable.\n",
    "print(random_sex)"
   ]
  },
  {
   "cell_type": "markdown",
   "metadata": {},
   "source": [
    "***\n",
    "## Task 4\n",
    "\n",
    "Suppose you are flipping two coins, each with a probability p of giving heads. Plot the entropy of the total number of heads versus p.\n",
    "\n",
    "The entropy of a random variable is the average level of \"information\", \"surprise\", or \"uncertainty\" inherent to the variable's possible outcomes. The entropy formula for an event X with n possible outcomes and probabilities p_1, …, p_n is the following:\n",
    "\n",
    "$$ H(X) = - \\sum_{i} P(x_i) \\log_2(P(x_i)) $$\n",
    "\n",
    "When you toss a coin, the probability of getting heads or tails is the same.\n",
    "In each case, the probability is ½ or 0.5. In other words, “heads” is one of two possible outcomes. The same is true for tails.\n",
    "Find probability of multiple independent events by multiplying the probability of individual events. For example, the probability of getting heads and then tails (HT) is ½ x ½ = ¼.\n",
    "\n",
    "A “fair coin” is one which has an equal probability of landing heads or tails in a coin toss. So, assuming that the coin from this exercise is a fair coin and has no defects, we can consider that the probability of getting heads (p) is 50% and the probability of getting tails is 50% (1-p)."
   ]
  },
  {
   "cell_type": "code",
   "execution_count": 15,
   "metadata": {},
   "outputs": [],
   "source": [
    "import matplotlib.pyplot as plt"
   ]
  },
  {
   "cell_type": "markdown",
   "metadata": {},
   "source": [
    "***\n",
    "\n",
    "## End"
   ]
  }
 ],
 "metadata": {
  "kernelspec": {
   "display_name": "base",
   "language": "python",
   "name": "python3"
  },
  "language_info": {
   "codemirror_mode": {
    "name": "ipython",
    "version": 3
   },
   "file_extension": ".py",
   "mimetype": "text/x-python",
   "name": "python",
   "nbconvert_exporter": "python",
   "pygments_lexer": "ipython3",
   "version": "3.9.13"
  },
  "orig_nbformat": 4
 },
 "nbformat": 4,
 "nbformat_minor": 2
}
