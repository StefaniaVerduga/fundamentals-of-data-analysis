{
 "cells": [
  {
   "cell_type": "markdown",
   "metadata": {},
   "source": [
    "# Fundamentals of Data Analysis Tasks\n",
    "\n",
    "**Stefania Verduga**\n",
    "\n",
    "***"
   ]
  },
  {
   "cell_type": "markdown",
   "metadata": {},
   "source": [
    "## Task 1\n",
    "\n",
    "The Collatz conjecture"
   ]
  },
  {
   "cell_type": "code",
   "execution_count": 1,
   "metadata": {},
   "outputs": [],
   "source": [
    "def f(x):\n",
    "    # If x is even, divide it by two.\n",
    "    if x % 2 == 0:\n",
    "        return x // 2\n",
    "    else:\n",
    "        return (3 * x) + 1"
   ]
  },
  {
   "cell_type": "code",
   "execution_count": 2,
   "metadata": {},
   "outputs": [],
   "source": [
    "def collatz(x):\n",
    "    while x != 1:\n",
    "        print(x, end=', ')\n",
    "        x = f(x)\n",
    "    print(x)\n",
    "       "
   ]
  },
  {
   "cell_type": "code",
   "execution_count": 3,
   "metadata": {},
   "outputs": [
    {
     "name": "stdout",
     "output_type": "stream",
     "text": [
      "1000, 500, 250, 125, 376, 188, 94, 47, 142, 71, 214, 107, 322, 161, 484, 242, 121, 364, 182, 91, 274, 137, 412, 206, 103, 310, 155, 466, 233, 700, 350, 175, 526, 263, 790, 395, 1186, 593, 1780, 890, 445, 1336, 668, 334, 167, 502, 251, 754, 377, 1132, 566, 283, 850, 425, 1276, 638, 319, 958, 479, 1438, 719, 2158, 1079, 3238, 1619, 4858, 2429, 7288, 3644, 1822, 911, 2734, 1367, 4102, 2051, 6154, 3077, 9232, 4616, 2308, 1154, 577, 1732, 866, 433, 1300, 650, 325, 976, 488, 244, 122, 61, 184, 92, 46, 23, 70, 35, 106, 53, 160, 80, 40, 20, 10, 5, 16, 8, 4, 2, 1\n"
     ]
    }
   ],
   "source": [
    "collatz(1000)"
   ]
  },
  {
   "cell_type": "markdown",
   "metadata": {},
   "source": [
    "***\n",
    "## Task 2\n",
    "\n",
    "Give an overview of the penguins data set, explaining the types of variables it contains. Suggest the types of variables that should be used to model them in Python, explaining your rationale.\n",
    "\n",
    "The Palmer penguins dataset is a collection of data about penguins in the Palmer Archipelago, Antarctica, composed of 3 islands. Data were collected and made available by Dr. Kristen Gorman and the Palmer Station, Antarctica LTER.\n",
    "\n",
    "The palmer penguin data has lots of information about three penguin species in the Palmer Archipelago, including size measurements, clutch sizes, and blood isotope ratios. There are 344 rows and 8 columns.\n",
    "\n",
    "![Penguin's Species](https://miro.medium.com/v2/resize:fit:1400/1*KU-V8tWWQU3nDtw12-bQ_g.png)\n",
    "\n",
    "Image by Allison Horst (https://allisonhorst.com/)\n",
    "\n",
    "For each of the 344 penguins, numerical values of bill length/depth, flipper length and body mass were measured, and additional categorical characteristics like sex, species and island were recorded.\n",
    "\n",
    "This dataset can be found in the following link: \n",
    "\n",
    "https://github.com/mwaskom/seaborn-data/blob/master/penguins.csv\n",
    "\n",
    "The CSV file previously downloaded, is read into our repository using the Pandas 'read_csv' method and it is stored in a pandas DataFrame object named 'df'. \n",
    "\n",
    "Using the method 'info' we will get all the relevant information about this dataset as the data type and its values."
   ]
  },
  {
   "cell_type": "code",
   "execution_count": 4,
   "metadata": {},
   "outputs": [
    {
     "data": {
      "text/html": [
       "<div>\n",
       "<style scoped>\n",
       "    .dataframe tbody tr th:only-of-type {\n",
       "        vertical-align: middle;\n",
       "    }\n",
       "\n",
       "    .dataframe tbody tr th {\n",
       "        vertical-align: top;\n",
       "    }\n",
       "\n",
       "    .dataframe thead th {\n",
       "        text-align: right;\n",
       "    }\n",
       "</style>\n",
       "<table border=\"1\" class=\"dataframe\">\n",
       "  <thead>\n",
       "    <tr style=\"text-align: right;\">\n",
       "      <th></th>\n",
       "      <th>species</th>\n",
       "      <th>island</th>\n",
       "      <th>bill_length_mm</th>\n",
       "      <th>bill_depth_mm</th>\n",
       "      <th>flipper_length_mm</th>\n",
       "      <th>body_mass_g</th>\n",
       "      <th>sex</th>\n",
       "    </tr>\n",
       "  </thead>\n",
       "  <tbody>\n",
       "    <tr>\n",
       "      <th>0</th>\n",
       "      <td>Adelie</td>\n",
       "      <td>Torgersen</td>\n",
       "      <td>39.1</td>\n",
       "      <td>18.7</td>\n",
       "      <td>181.0</td>\n",
       "      <td>3750.0</td>\n",
       "      <td>MALE</td>\n",
       "    </tr>\n",
       "    <tr>\n",
       "      <th>1</th>\n",
       "      <td>Adelie</td>\n",
       "      <td>Torgersen</td>\n",
       "      <td>39.5</td>\n",
       "      <td>17.4</td>\n",
       "      <td>186.0</td>\n",
       "      <td>3800.0</td>\n",
       "      <td>FEMALE</td>\n",
       "    </tr>\n",
       "    <tr>\n",
       "      <th>2</th>\n",
       "      <td>Adelie</td>\n",
       "      <td>Torgersen</td>\n",
       "      <td>40.3</td>\n",
       "      <td>18.0</td>\n",
       "      <td>195.0</td>\n",
       "      <td>3250.0</td>\n",
       "      <td>FEMALE</td>\n",
       "    </tr>\n",
       "    <tr>\n",
       "      <th>3</th>\n",
       "      <td>Adelie</td>\n",
       "      <td>Torgersen</td>\n",
       "      <td>NaN</td>\n",
       "      <td>NaN</td>\n",
       "      <td>NaN</td>\n",
       "      <td>NaN</td>\n",
       "      <td>NaN</td>\n",
       "    </tr>\n",
       "    <tr>\n",
       "      <th>4</th>\n",
       "      <td>Adelie</td>\n",
       "      <td>Torgersen</td>\n",
       "      <td>36.7</td>\n",
       "      <td>19.3</td>\n",
       "      <td>193.0</td>\n",
       "      <td>3450.0</td>\n",
       "      <td>FEMALE</td>\n",
       "    </tr>\n",
       "  </tbody>\n",
       "</table>\n",
       "</div>"
      ],
      "text/plain": [
       "  species     island  bill_length_mm  bill_depth_mm  flipper_length_mm   \n",
       "0  Adelie  Torgersen            39.1           18.7              181.0  \\\n",
       "1  Adelie  Torgersen            39.5           17.4              186.0   \n",
       "2  Adelie  Torgersen            40.3           18.0              195.0   \n",
       "3  Adelie  Torgersen             NaN            NaN                NaN   \n",
       "4  Adelie  Torgersen            36.7           19.3              193.0   \n",
       "\n",
       "   body_mass_g     sex  \n",
       "0       3750.0    MALE  \n",
       "1       3800.0  FEMALE  \n",
       "2       3250.0  FEMALE  \n",
       "3          NaN     NaN  \n",
       "4       3450.0  FEMALE  "
      ]
     },
     "execution_count": 4,
     "metadata": {},
     "output_type": "execute_result"
    }
   ],
   "source": [
    "import pandas as pd\n",
    "df = pd.read_csv('/Users/stefania/Fundamentals of data analysis/fundamentals-of-data-analysis-project/penguins.csv')\n",
    "df.head()"
   ]
  },
  {
   "cell_type": "code",
   "execution_count": 5,
   "metadata": {},
   "outputs": [
    {
     "name": "stdout",
     "output_type": "stream",
     "text": [
      "<class 'pandas.core.frame.DataFrame'>\n",
      "RangeIndex: 344 entries, 0 to 343\n",
      "Data columns (total 7 columns):\n",
      " #   Column             Non-Null Count  Dtype  \n",
      "---  ------             --------------  -----  \n",
      " 0   species            344 non-null    object \n",
      " 1   island             344 non-null    object \n",
      " 2   bill_length_mm     342 non-null    float64\n",
      " 3   bill_depth_mm      342 non-null    float64\n",
      " 4   flipper_length_mm  342 non-null    float64\n",
      " 5   body_mass_g        342 non-null    float64\n",
      " 6   sex                333 non-null    object \n",
      "dtypes: float64(4), object(3)\n",
      "memory usage: 18.9+ KB\n"
     ]
    }
   ],
   "source": [
    "df.info()"
   ]
  },
  {
   "cell_type": "markdown",
   "metadata": {},
   "source": [
    "The dataset consists of 344 observations with 7 columns referring to the features used to describe these observations. Three of these variables are nominal while the other four are numeric.\n",
    "\n",
    "- species: penguin species (Chinstrap, Adélie, or Gentoo)\n",
    "- island: island name (Dream, Torgersen, or Biscoe) in the Palmer Archipelago (Antarctica)\n",
    "- bill_length_mm: bill length (mm)\n",
    "- bill_depth_mm: bill depth (mm)\n",
    "- flipper_length_mm: flipper length (mm)\n",
    "- body_mass_g: body mass (g)\n",
    "- sex: penguin sex\n",
    "\n",
    "Let's analyze the type of variable for each one:\n",
    "\n",
    "- **Species**: This is a categorical/nominal variable which refers to the specie of each penguin. The dataset gather information about three different species Chinstrap, Adélie and Gentoo.\n",
    "\n",
    "- **Island**: Like the previous variable, this is a categorical/nominal variable which refers to the name of the islands where data were collected for each of the sample values (Tongersen, Dream, Biscoe).\n",
    "\n",
    "- **Bill Length**: The bill is the upper ridge of the penguin's beak, and this variable is a numerical value measured in millimeters.\n",
    "\n",
    "- **Bill Depth**: This variable provides information on the attributes of the penguin beak, in this case its depth size, which is a numerical variable.\n",
    "\n",
    "- **Flipper Length**: In this case, this variable provides us with information on the measurements of the penguin's flippers, so we are dealing with a numerical variable.\n",
    "\n",
    "- **Body Mass**: This variable indicates the weight of the penguins, measured in grams, which is a numerical variable.\n",
    "\n",
    "- **Sex**: The variable sex refers to the gender of the penguins, it is a nominal variable with only two possible values, in this case female or male.\n",
    "\n",
    "For a better understanding of the measurement of the penguin's bill, we can find a picture explanation as follows:\n",
    "\n",
    "![Penguin's Bill Length vs Bill Depth](https://allisonhorst.github.io/palmerpenguins/reference/figures/culmen_depth.png)\n",
    "Image by Allison Horst (https://allisonhorst.com/)"
   ]
  },
  {
   "cell_type": "markdown",
   "metadata": {},
   "source": [
    "***\n",
    "## Task 3\n",
    "\n",
    "For each of the variables in the penguins data set, suggest what probability distribution from the numpy random distributions list is the most appropriate to model the variable.\n",
    "\n",
    "According to the penguin dataset, we have the following variables:\n",
    "- species\n",
    "- island \n",
    "- bill_length_mm\n",
    "- bill_depth_mm \n",
    "- flipper_length_mm\n",
    "- body_mass_g\n",
    "-  sex            \n",
    "\n",
    "In order to figure out the distributions of each variable, We need to take into account the number of observations for each one. We need also to import numpy to work with random variables."
   ]
  },
  {
   "cell_type": "code",
   "execution_count": 6,
   "metadata": {},
   "outputs": [],
   "source": [
    "# Import numpy.\n",
    "import numpy as np"
   ]
  },
  {
   "cell_type": "markdown",
   "metadata": {},
   "source": [
    "1. Species\n",
    "\n",
    "The variable \"species\" in the Penguin dataset represents the categorical variable indicating the penguin species. The distribution of this variable will show the frequency or proportion of each species in the dataset. We should need take into account that this variable has three possible outcomes: Chinstrap, Adélie or Gentoo.\n",
    "\n",
    "The Binomial distribution is a statistical distribution that summarizes the probability that a value will take one of two independent values under a given set of parameters or assumptions. According to this definition, we can confirm that this variable cannot follow a binomial distribution, but it can follow a multinomial distribution since the observations can be from 3 different nominal categories."
   ]
  },
  {
   "cell_type": "code",
   "execution_count": 7,
   "metadata": {},
   "outputs": [
    {
     "name": "stdout",
     "output_type": "stream",
     "text": [
      "Simulated Observations: [60 57 33]\n"
     ]
    }
   ],
   "source": [
    "# Generate a random data for the variable Species.\n",
    "species_counts = df[\"species\"].value_counts()\n",
    "\n",
    "# Calculate probabilities.\n",
    "probabilities = species_counts / len(df)\n",
    "\n",
    "number_of_observations = 150 \n",
    "\n",
    "multinomial_variable = np.random.multinomial(n=number_of_observations, pvals=probabilities)\n",
    "print(f\"Simulated Observations: {multinomial_variable}\")"
   ]
  },
  {
   "cell_type": "markdown",
   "metadata": {},
   "source": [
    "The previous output indicates that there are 73 observations for Adélie, 47 observations for Chinstrap and 30 observations for Gentoo.\n",
    "\n",
    "2. Island\n",
    "\n",
    "This variable is similar to the previous one. The three possible outcomes for this variables are: Tongersen, Dream and Biscoe. So as in the previous variable, we can say that this variable follows a multinomial distribution."
   ]
  },
  {
   "cell_type": "code",
   "execution_count": 8,
   "metadata": {},
   "outputs": [
    {
     "name": "stdout",
     "output_type": "stream",
     "text": [
      "Simulated Observations: [66 60 24]\n"
     ]
    }
   ],
   "source": [
    "# Generate a random data for the variable Island.\n",
    "species_counts = df[\"island\"].value_counts()\n",
    "\n",
    "# Calculate probabilities.\n",
    "probabilities = species_counts / len(df)\n",
    "\n",
    "number_of_observations = 150 \n",
    "\n",
    "multinomial_variable = np.random.multinomial(n=number_of_observations, pvals=probabilities)\n",
    "print(f\"Simulated Observations: {multinomial_variable}\")"
   ]
  },
  {
   "cell_type": "markdown",
   "metadata": {},
   "source": [
    "The previous output indicates that there are 71 observations for Tongersen, 55 observations for Biscoep and 24 observations for Dream.\n",
    "\n",
    "3. Bill_length_mm\n",
    "\n",
    "In the case of the Bill lenght variable, we can assume that if follows a Normal / Gaussian bell distribution.\n",
    "A normal distribution represents how the values of a characteristic appear in a population, for example the height of people in any country or in this case, the bill lenght of the penguins. In these characteristics, there will be one value that will be the most frequent and that will also be the value located in the middle of all the observations recorded in that population, even if we calculate that value, which is the arithmetic mean, adding all the heights recorded and dividing that result by the number of registered people, both data will coincide (or will be very similar)."
   ]
  },
  {
   "cell_type": "code",
   "execution_count": 9,
   "metadata": {},
   "outputs": [
    {
     "name": "stdout",
     "output_type": "stream",
     "text": [
      "Simulated Bill Lengths: [38.97965958 41.367155   45.12968653 47.62857948 47.31008132 44.89739968\n",
      " 52.83368799 46.98668736 39.62443666 36.6661555  48.26974815 54.60216928\n",
      " 46.20008159 42.35183511 44.9383515  47.45987854 46.42226244 26.94281682\n",
      " 49.18109511 43.03591139 46.11902781 42.5844156  40.94447817 49.38267916\n",
      " 37.20515809 44.89339585 35.41402033 46.81213557 47.98943157 41.96775173\n",
      " 49.70851472 39.26995697 42.93918097 40.28416223 42.68494574 42.08624023\n",
      " 43.50041592 37.40670218 47.23005478 42.22232667 40.397365   38.26662085\n",
      " 30.49468898 40.09590811 44.88496387 49.24285212 38.59630353 40.9121652\n",
      " 53.42087737 49.12983307 44.64539762 40.90091288 52.10829487 42.7777528\n",
      " 44.52106913 49.69089176 35.18272467 45.00939267 43.68570392 40.93710609\n",
      " 39.98015541 36.75175068 47.69608973 41.63270635 47.13076732 38.33928397\n",
      " 35.47436897 47.40021163 42.66957553 48.89437496 46.97789527 44.63187188\n",
      " 41.15215614 41.88157392 45.69220657 54.07421495 47.95066085 39.75228596\n",
      " 46.61523667 40.47633496 45.83388179 54.97721226 42.09497969 44.09986774\n",
      " 35.23452494 48.61755227 38.28444585 37.5707781  43.60198935 35.81414217\n",
      " 39.831938   47.27375828 42.46573248 36.83332726 45.75005452 57.52121428\n",
      " 41.92583533 47.64132299 47.53190647 34.41143499 35.45705227 33.99955918\n",
      " 52.16895495 43.34600539 40.51541833 54.58638048 40.712405   39.41050959\n",
      " 39.07501575 45.08280078 36.64617326 43.40419807 46.90666448 40.2789321\n",
      " 45.68014196 47.05408842 41.34146418 40.42845963 50.91877207 53.74785835\n",
      " 48.05105336 46.8858953  40.48775814 48.36636865 39.90371568 40.85338308\n",
      " 34.22987161 43.87786991 42.18953447 51.36071033 50.10591053 46.13640627\n",
      " 38.91967496 44.0888753  34.53948729 48.90375955 48.23811957 50.65457338\n",
      " 46.27787406 33.93266519 45.08708888 37.79508704 40.02351158 37.00080769\n",
      " 37.0558819  43.93494805 44.74375575 41.36112394 46.10616535 44.71708249]\n"
     ]
    }
   ],
   "source": [
    "# Generate a random sata for the variable bill_lenght_mm following a normal distribution.\n",
    "mean_bill_length = df[\"bill_length_mm\"].mean()\n",
    "std_dev_bill_length = df[\"bill_length_mm\"].std()\n",
    "\n",
    "number_of_observations = 150 \n",
    "\n",
    "# Simulate a normal distribution\n",
    "bill_length_simulated_data = np.random.normal(loc=mean_bill_length, scale=std_dev_bill_length, size=number_of_observations)\n",
    "print(f\"Simulated Bill Lengths: {bill_length_simulated_data}\")"
   ]
  },
  {
   "cell_type": "markdown",
   "metadata": {},
   "source": [
    "4. Bill_depth_mm \n",
    "\n",
    "Just as in the previous variable and since it is a natural phenomenon, we are going to consider that this variable follows a normal distribution or Gaussian Bell."
   ]
  },
  {
   "cell_type": "code",
   "execution_count": 10,
   "metadata": {},
   "outputs": [
    {
     "name": "stdout",
     "output_type": "stream",
     "text": [
      "Simulated Bill Lengths: [17.02401699 16.2688753  20.49581369 20.13929504 18.88578262 17.95677858\n",
      " 19.85215223 19.02313441 17.15062578 16.30590317 14.9869086  18.40280443\n",
      " 18.46397644 17.72406921 18.26640087 18.5047642  18.20094125 12.76457491\n",
      " 20.08069483 18.72449093 18.64299159 18.62336554 14.84542911 14.62639115\n",
      " 20.58245659 16.84730546 17.43493716 14.70591447 16.47521043 17.19721958\n",
      " 16.02107484 15.45200426 16.93598837 20.35639457 19.84501581 18.03726965\n",
      " 16.18752278 18.12691744 15.62033844 16.59900725 19.19551231 18.72210466\n",
      " 17.64231659 15.83306058 20.07902997 19.18724196 16.43464739 19.90897534\n",
      " 19.93678754 20.14904888 14.48166809 17.32588466 20.9171538  15.87608024\n",
      " 16.64611159 16.24964409 21.55998283 15.12537166 20.55990264 20.29003748\n",
      " 16.81371341 15.51515738 14.25881997 18.28871471 17.17199819 16.09497404\n",
      " 16.74402302 21.28302249 16.73172166 18.22976987 15.37039264 15.89637802\n",
      " 17.3045798  21.04265355 18.79372529 17.37511558 15.63591031 20.104902\n",
      " 15.71221567 21.35156806 19.14496315 18.98978905 15.80855869 18.90578633\n",
      " 19.49554323 18.04139214 17.64088012 13.9884506  17.35890158 20.12570058\n",
      " 16.04045786 14.68066329 17.17228026 13.79631722 17.54798775 15.77776056\n",
      " 16.44820019 19.33064623 13.62616719 16.40043552 15.3743346  16.37741194\n",
      " 19.36113576 14.5086929  16.336056   20.40325993 16.02988154 17.50719499\n",
      " 18.09979789 18.21002867 14.70290385 16.47761533 14.65099316 19.71940037\n",
      " 16.50600418 19.56497617 15.10845269 14.97091247 17.34272115 14.65938856\n",
      " 17.1625664  19.60685446 19.26659305 19.76578921 13.69918886 17.67502348\n",
      " 16.69415042 17.93330272 14.38358446 18.61003874 16.61041058 18.8290779\n",
      " 17.74324833 15.70164566 16.28604406 18.87867467 19.56312587 17.25874982\n",
      " 20.32072204 13.96622887 18.39234733 15.72650479 17.46903341 16.95909815\n",
      " 11.80027564 15.66222798 18.22331038 20.3352752  17.9728496  15.54783911]\n"
     ]
    }
   ],
   "source": [
    "# Generate a random sata for the variable bill_depth_mm following a normal distribution.\n",
    "mean_bill_depth = df[\"bill_depth_mm\"].mean()\n",
    "std_dev_bill_depth = df[\"bill_depth_mm\"].std()\n",
    "\n",
    "number_of_observations = 150 \n",
    "\n",
    "# Simulate a normal distribution\n",
    "bill_depth_simulated_data = np.random.normal(loc=mean_bill_depth, scale=std_dev_bill_depth, size=number_of_observations)\n",
    "print(f\"Simulated Bill Lengths: {bill_depth_simulated_data}\")"
   ]
  },
  {
   "cell_type": "markdown",
   "metadata": {},
   "source": [
    "5. Flipper_length_mm\n",
    "\n",
    "Again here, as this variable explains a phisycal phenomenon of the penguins, this variable can be normally distributed."
   ]
  },
  {
   "cell_type": "code",
   "execution_count": 11,
   "metadata": {},
   "outputs": [
    {
     "name": "stdout",
     "output_type": "stream",
     "text": [
      "Simulated Bill Lengths: [206.6075345  193.72897147 206.74357418 189.95256281 195.59299075\n",
      " 208.02137987 218.06059212 184.92210525 230.67494584 211.25963299\n",
      " 207.9645426  224.50566698 203.42281027 183.17434357 189.05959413\n",
      " 193.58196119 192.48444803 215.89673619 201.70655633 197.70347928\n",
      " 205.07125961 183.16217792 193.27027553 197.93581234 204.75949561\n",
      " 234.48267557 224.25651189 204.42828002 189.99048805 193.10152515\n",
      " 187.16928509 202.14067379 206.43434752 204.06524617 218.16254003\n",
      " 216.4654398  194.36469486 203.85645297 199.27571474 205.50007279\n",
      " 205.86332049 214.92363505 181.0420156  197.60547692 197.80465405\n",
      " 207.12672594 208.11435568 195.02412201 185.9868928  185.27889432\n",
      " 170.31484728 222.0189757  206.83440699 211.89331362 212.19968063\n",
      " 192.18764162 193.53343227 217.60329293 215.15619039 192.34679432\n",
      " 218.37286618 216.28173858 214.15554342 214.95828078 194.79506669\n",
      " 175.15085865 178.6501845  200.65232307 200.62034336 229.7219248\n",
      " 225.21293783 211.46782323 210.0022145  186.81449805 213.01970856\n",
      " 192.23425951 231.28231398 207.309494   225.53728309 181.0912044\n",
      " 206.26974476 182.09513596 197.61324058 182.5017767  191.61913707\n",
      " 187.81367422 209.13008602 201.63925155 203.03604656 191.76185729\n",
      " 221.75483199 200.67203642 224.27585364 191.15401075 204.28459085\n",
      " 202.03549324 220.51315911 191.96602938 206.35135345 204.52605872\n",
      " 211.17890328 190.32903055 223.19126044 211.19434859 197.75735666\n",
      " 222.84903267 189.55932517 235.87837667 199.67219196 209.16030609\n",
      " 201.7118311  212.20341419 200.95067097 174.22778083 185.84524381\n",
      " 191.88931865 228.86772165 201.23053362 202.95921542 192.58333354\n",
      " 222.86051197 199.79591886 166.77366469 200.80311987 189.65517596\n",
      " 195.91997594 207.62427025 181.36739506 209.6983184  218.8590191\n",
      " 186.07501006 205.41603352 178.80385525 213.20466354 168.83005588\n",
      " 195.45539025 196.27242721 214.0902946  206.51132047 211.88589868\n",
      " 208.35170177 230.8148361  194.47755521 203.37975869 204.73950333\n",
      " 165.65317213 186.85089772 164.69149265 185.49667318 217.58858835]\n"
     ]
    }
   ],
   "source": [
    "# Generate a random sata for the variable flipper_lenght_mm following a normal distribution.\n",
    "mean_flipper_length = df[\"flipper_length_mm\"].mean()\n",
    "std_dev_flipper_length = df[\"flipper_length_mm\"].std()\n",
    "\n",
    "number_of_observations = 150 \n",
    "\n",
    "# Simulate a normal distribution\n",
    "flipper_length_simulated_data = np.random.normal(loc=mean_flipper_length, scale=std_dev_flipper_length, size=number_of_observations)\n",
    "print(f\"Simulated Bill Lengths: {flipper_length_simulated_data}\")"
   ]
  },
  {
   "cell_type": "markdown",
   "metadata": {},
   "source": [
    "6. Body_mass_g\n",
    "\n",
    "In this case, we can also assume that the body mass variable follows a Normal Distribution."
   ]
  },
  {
   "cell_type": "code",
   "execution_count": 12,
   "metadata": {},
   "outputs": [
    {
     "name": "stdout",
     "output_type": "stream",
     "text": [
      "Simulated Body Mass: [3555.47781978 3350.49913501 4592.40377955 3696.27375615 3742.88279327\n",
      " 4674.15315389 4504.82726806 5391.70639002 3032.40821719 4334.26646873\n",
      " 2777.96409965 3922.723427   3612.63414022 4478.71313277 3776.91357074\n",
      " 3367.71461618 4491.26057603 4207.84204479 4975.38777154 4909.59046759\n",
      " 3955.89088052 3674.0190027  4839.39521988 5253.89655676 3724.88082999\n",
      " 4360.79151934 5013.13730834 4478.08327019 3110.03073643 3392.94407294\n",
      " 3936.16957468 5481.90183873 4041.07000907 5069.39290283 4821.90403999\n",
      " 3900.82019491 4417.04104122 5698.78237158 4247.82970763 3617.07487258\n",
      " 2850.43729393 3210.17787843 2722.91989    5290.22442479 3630.95526661\n",
      " 4299.00914067 3763.11961545 5402.07399583 3775.49608191 3597.07653483\n",
      " 3813.35926045 3134.91895329 4860.72973446 5378.47780589 4617.48797561\n",
      " 4292.93131861 5322.24442025 4838.9701063  4756.78005156 6492.54080533\n",
      " 3782.97407484 6349.86247222 3614.42764676 4257.91255612 3015.88923313\n",
      " 3691.24747812 4114.36902132 4028.78816494 4166.72175671 3921.56355311\n",
      " 4600.84575681 4829.41536195 3883.37895785 3513.96572226 3978.48858548\n",
      " 3431.79808119 3320.27588596 4497.77720459 4124.25872919 5196.60520373\n",
      " 5495.3942617  4743.43323322 4554.6841329  5114.45382447 4918.61776513\n",
      " 3887.0244679  4181.01439239 5584.1461639  5317.82124861 2586.70490037\n",
      " 2663.44923944 3060.91388308 5635.98006098 4551.70844162 3159.2210035\n",
      " 3569.4313341  4174.50420845 2895.36825113 4278.92469981 4314.3233168\n",
      " 5378.320374   4904.13018033 4939.64904891 3175.29179286 5690.29953143\n",
      " 4704.59525821 3996.45614554 3554.14971487 5139.59013443 3528.09010593\n",
      " 5005.36836238 4738.18791136 3107.94389259 3761.5605371  4510.72644249\n",
      " 3883.46880011 3774.70232901 4760.69209164 3446.99857918 5164.18145801\n",
      " 3803.77127745 3496.06361882 4740.53220533 4542.61333974 5801.74669875\n",
      " 3611.74422048 3729.75868546 2905.210754   5129.42233163 4886.20227999\n",
      " 4278.43742594 4724.37258228 3328.99886301 4491.13691649 4093.72063845\n",
      " 4094.30840384 5180.58885671 2651.28372594 4790.83934878 4424.5439964\n",
      " 3561.85024656 4765.76020538 4527.56675238 4315.70642026 3533.1164177\n",
      " 3947.77948465 3210.12779747 3344.72129559 5009.75310763 2621.04382941]\n"
     ]
    }
   ],
   "source": [
    "# Generate a random sata for the variable body_mass_g following a normal distribution.\n",
    "mean_body_mass = df[\"body_mass_g\"].mean()\n",
    "std_dev_body_mass = df[\"body_mass_g\"].std()\n",
    "\n",
    "number_of_observations = 150 \n",
    "\n",
    "# Simulate a normal distribution\n",
    "body_mass_simulated_data = np.random.normal(loc=mean_body_mass, scale=std_dev_body_mass, size=number_of_observations)\n",
    "print(f\"Simulated Body Mass: {body_mass_simulated_data}\")"
   ]
  },
  {
   "cell_type": "markdown",
   "metadata": {},
   "source": [
    "7. Sex \n",
    "\n",
    "The variable sex has a different distribution. According to the definition of the Binomial distribution, a binomial distribution is a probability distribution function that is used when there are exactly two possible outcomes of a trial that are mutually exclusive. \n",
    "So, in this case we can assume that the variable sex follows a binomial distribution as it has only two possible outcomes: male or female and both are exclusive.\n",
    "\n",
    "According to this, we are setting a random sex variable following a Binomial distribution. \n",
    "The binomial distribution is described by two parameters: 'n' the number of experiments performed, and 'p' the probability of success."
   ]
  },
  {
   "cell_type": "code",
   "execution_count": 13,
   "metadata": {},
   "outputs": [
    {
     "name": "stdout",
     "output_type": "stream",
     "text": [
      "sex\n",
      "MALE      0.504505\n",
      "FEMALE    0.495495\n",
      "Name: proportion, dtype: float64\n"
     ]
    }
   ],
   "source": [
    "# We need to know the proportion of males and females in the original dataset.\n",
    "sex_probabilities = df[\"sex\"].value_counts(normalize=True)\n",
    "print(sex_probabilities)"
   ]
  },
  {
   "cell_type": "code",
   "execution_count": 14,
   "metadata": {},
   "outputs": [
    {
     "name": "stdout",
     "output_type": "stream",
     "text": [
      "['FEMALE' 'MALE' 'MALE' 'FEMALE' 'MALE' 'MALE' 'MALE' 'FEMALE' 'FEMALE'\n",
      " 'MALE' 'FEMALE' 'FEMALE' 'MALE' 'FEMALE' 'MALE' 'FEMALE' 'FEMALE'\n",
      " 'FEMALE' 'MALE' 'FEMALE' 'MALE' 'MALE' 'MALE' 'MALE' 'MALE' 'FEMALE'\n",
      " 'MALE' 'FEMALE' 'FEMALE' 'FEMALE' 'MALE' 'MALE' 'MALE' 'MALE' 'MALE'\n",
      " 'FEMALE' 'MALE' 'FEMALE' 'FEMALE' 'MALE' 'FEMALE' 'MALE' 'MALE' 'FEMALE'\n",
      " 'FEMALE' 'MALE' 'MALE' 'FEMALE' 'FEMALE' 'MALE' 'MALE' 'FEMALE' 'FEMALE'\n",
      " 'FEMALE' 'MALE' 'FEMALE' 'MALE' 'MALE' 'FEMALE' 'MALE' 'MALE' 'MALE'\n",
      " 'FEMALE' 'MALE' 'FEMALE' 'MALE' 'FEMALE' 'FEMALE' 'MALE' 'FEMALE' 'MALE'\n",
      " 'MALE' 'MALE' 'FEMALE' 'FEMALE' 'FEMALE' 'MALE' 'MALE' 'MALE' 'FEMALE'\n",
      " 'FEMALE' 'FEMALE' 'MALE' 'MALE' 'MALE' 'MALE' 'FEMALE' 'MALE' 'MALE'\n",
      " 'FEMALE' 'MALE' 'MALE' 'MALE' 'MALE' 'FEMALE' 'MALE' 'FEMALE' 'FEMALE'\n",
      " 'FEMALE' 'FEMALE' 'FEMALE' 'FEMALE' 'MALE' 'MALE' 'FEMALE' 'FEMALE'\n",
      " 'FEMALE' 'FEMALE' 'MALE' 'FEMALE' 'MALE' 'FEMALE' 'FEMALE' 'MALE'\n",
      " 'FEMALE' 'FEMALE' 'FEMALE' 'MALE' 'MALE' 'FEMALE' 'MALE' 'FEMALE' 'MALE'\n",
      " 'FEMALE' 'MALE' 'FEMALE' 'MALE' 'FEMALE' 'MALE' 'MALE' 'FEMALE' 'MALE'\n",
      " 'FEMALE' 'FEMALE' 'FEMALE' 'MALE' 'FEMALE' 'MALE' 'MALE' 'MALE' 'FEMALE'\n",
      " 'FEMALE' 'FEMALE' 'FEMALE' 'MALE' 'FEMALE' 'MALE' 'MALE' 'FEMALE'\n",
      " 'FEMALE' 'MALE' 'MALE' 'FEMALE' 'FEMALE' 'FEMALE' 'FEMALE' 'MALE' 'MALE'\n",
      " 'MALE' 'MALE' 'MALE' 'MALE' 'FEMALE' 'MALE' 'MALE' 'MALE' 'MALE' 'FEMALE'\n",
      " 'FEMALE' 'FEMALE' 'MALE' 'FEMALE' 'FEMALE' 'FEMALE' 'FEMALE' 'MALE'\n",
      " 'FEMALE' 'FEMALE' 'MALE' 'FEMALE' 'MALE' 'FEMALE' 'MALE' 'MALE' 'MALE'\n",
      " 'FEMALE' 'FEMALE' 'MALE' 'MALE' 'MALE' 'MALE' 'FEMALE' 'FEMALE' 'FEMALE'\n",
      " 'FEMALE' 'FEMALE' 'FEMALE' 'FEMALE' 'MALE' 'FEMALE' 'MALE' 'MALE' 'MALE'\n",
      " 'FEMALE' 'MALE' 'FEMALE' 'MALE' 'MALE' 'FEMALE' 'FEMALE' 'MALE' 'MALE'\n",
      " 'FEMALE' 'FEMALE' 'MALE' 'FEMALE' 'FEMALE' 'MALE' 'MALE' 'FEMALE' 'MALE'\n",
      " 'FEMALE' 'FEMALE' 'MALE' 'MALE' 'FEMALE' 'MALE' 'FEMALE' 'MALE' 'FEMALE'\n",
      " 'FEMALE' 'FEMALE' 'FEMALE' 'MALE' 'MALE' 'FEMALE' 'MALE' 'MALE' 'MALE'\n",
      " 'MALE' 'MALE' 'MALE' 'MALE' 'FEMALE' 'MALE' 'FEMALE' 'MALE' 'FEMALE'\n",
      " 'FEMALE' 'MALE' 'FEMALE' 'FEMALE' 'FEMALE' 'MALE' 'MALE' 'MALE' 'FEMALE'\n",
      " 'MALE' 'MALE' 'FEMALE' 'FEMALE' 'FEMALE' 'FEMALE' 'FEMALE' 'FEMALE'\n",
      " 'MALE' 'MALE' 'FEMALE' 'FEMALE' 'MALE' 'FEMALE' 'MALE' 'MALE' 'MALE'\n",
      " 'MALE' 'FEMALE' 'FEMALE' 'MALE' 'FEMALE' 'FEMALE' 'MALE' 'MALE' 'FEMALE'\n",
      " 'MALE' 'MALE' 'FEMALE' 'FEMALE' 'MALE' 'FEMALE' 'MALE' 'FEMALE' 'MALE'\n",
      " 'MALE' 'MALE' 'MALE' 'FEMALE' 'MALE' 'MALE' 'MALE' 'FEMALE' 'FEMALE'\n",
      " 'MALE' 'FEMALE' 'FEMALE' 'MALE' 'MALE' 'MALE' 'FEMALE' 'MALE' 'MALE'\n",
      " 'FEMALE' 'MALE' 'MALE' 'MALE' 'FEMALE' 'FEMALE' 'MALE' 'MALE' 'FEMALE'\n",
      " 'MALE' 'MALE' 'FEMALE' 'MALE' 'MALE' 'MALE' 'MALE' 'MALE' 'FEMALE' 'MALE'\n",
      " 'MALE' 'MALE' 'MALE' 'FEMALE' 'FEMALE' 'FEMALE' 'FEMALE' 'FEMALE'\n",
      " 'FEMALE' 'MALE' 'FEMALE' 'MALE' 'MALE' 'MALE' 'FEMALE']\n"
     ]
    }
   ],
   "source": [
    "# Once we have the probabilities, we need to set 'n' which is the number of the sample.\n",
    "num_penguins = len(df)\n",
    "\n",
    "# Generate random sexes based on the observed probabilities.\n",
    "random_sex = np.random.choice(sex_probabilities.index, size=num_penguins, p=sex_probabilities.values)\n",
    "\n",
    "# Create a new 'sex' column in the DataFrame.\n",
    "df['sex'] = random_sex\n",
    "\n",
    "# Display the new 'sex' variable.\n",
    "print(random_sex)"
   ]
  },
  {
   "cell_type": "markdown",
   "metadata": {},
   "source": [
    "***\n",
    "## Task 4\n",
    "\n",
    "Suppose you are flipping two coins, each with a probability p of giving heads. Plot the entropy of the total number of heads versus p.\n",
    "\n",
    "The entropy of a random variable is the average level of \"information\", \"surprise\", or \"uncertainty\" inherent to the variable's possible outcomes. The entropy formula for an event X with n possible outcomes and probabilities p_1, …, p_n is the following:\n",
    "\n",
    "$$ H(X) = - \\sum_{i} P(x_i) \\log_2(P(x_i)) $$\n",
    "\n",
    "When you toss a coin, the probability of getting heads or tails is the same.\n",
    "In each case, the probability is ½ or 0.5. In other words, “heads” is one of two possible outcomes. The same is true for tails.\n",
    "Find probability of multiple independent events by multiplying the probability of individual events. For example, the probability of getting heads and then tails (HT) is ½ x ½ = ¼.\n",
    "\n",
    "A “fair coin” is one which has an equal probability of landing heads or tails in a coin toss. So, assuming that the coin from this exercise is a fair coin and has no defects, we can consider that the probability of getting heads (p) is 50% and the probability of getting tails is 50% (1-p)."
   ]
  },
  {
   "cell_type": "code",
   "execution_count": 15,
   "metadata": {},
   "outputs": [
    {
     "data": {
      "image/png": "[encoded data removed]",
      "text/plain": [
       "<Figure size 800x600 with 1 Axes>"
      ]
     },
     "metadata": {},
     "output_type": "display_data"
    }
   ],
   "source": [
    "import matplotlib.pyplot as plt\n",
    "\n",
    "def entropy(p):\n",
    "    q = 1 - p\n",
    "    if p == 0 or p == 1:\n",
    "        return 0\n",
    "    else:\n",
    "        return - (p * np.log2(p) + q * np.log2(q))\n",
    "    \n",
    "# Probability values (p) ranging from 0 to 1\n",
    "p_values = np.linspace(0, 1, 100)\n",
    "\n",
    "# Calculate entropy for each probability value\n",
    "entropy_values = [entropy(p) for p in p_values]\n",
    "\n",
    "# Plotting\n",
    "plt.figure(figsize=(8, 6))\n",
    "plt.plot(p_values, entropy_values, label='Entropy of Total Heads')\n",
    "plt.title('Entropy of Total Heads vs. Probability of Heads (p)')\n",
    "plt.xlabel('Probability of Heads (p)')\n",
    "plt.ylabel('Entropy')\n",
    "plt.legend()\n",
    "plt.grid(True)\n",
    "plt.show()"
   ]
  },
  {
   "cell_type": "markdown",
   "metadata": {},
   "source": [
    "***\n",
    "\n",
    "## End"
   ]
  }
 ],
 "metadata": {
  "kernelspec": {
   "display_name": "base",
   "language": "python",
   "name": "python3"
  },
  "language_info": {
   "codemirror_mode": {
    "name": "ipython",
    "version": 3
   },
   "file_extension": ".py",
   "mimetype": "text/x-python",
   "name": "python",
   "nbconvert_exporter": "python",
   "pygments_lexer": "ipython3",
   "version": "3.9.13"
  },
  "orig_nbformat": 4
 },
 "nbformat": 4,
 "nbformat_minor": 2
}
